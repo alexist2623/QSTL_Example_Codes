{
 "cells": [
  {
   "cell_type": "markdown",
   "metadata": {},
   "source": [
    "# QDAC II QICK Trig Test"
   ]
  },
  {
   "cell_type": "markdown",
   "metadata": {},
   "source": [
    "## Import Libraries"
   ]
  },
  {
   "cell_type": "code",
   "execution_count": 4,
   "metadata": {},
   "outputs": [
    {
     "name": "stdout",
     "output_type": "stream",
     "text": [
      "Pyro.NameServer PYRO:Pyro.NameServer@0.0.0.0:8888\n",
      "myqick PYRO:obj_3cde8b18d45b4d708deec1c942f4b4c0@192.168.2.99:34289\n"
     ]
    },
    {
     "data": {
      "text/plain": [
       "('USB0::0x0957::0x1780::MY60101437::INSTR',\n",
       " 'ASRL1::INSTR',\n",
       " 'ASRL3::INSTR',\n",
       " 'ASRL5::INSTR',\n",
       " 'ASRL6::INSTR',\n",
       " 'ASRL20::INSTR',\n",
       " 'ASRL21::INSTR',\n",
       " 'ASRL22::INSTR',\n",
       " 'ASRL23::INSTR',\n",
       " 'ASRL24::INSTR',\n",
       " 'ASRL25::INSTR',\n",
       " 'ASRL26::INSTR',\n",
       " 'ASRL27::INSTR')"
      ]
     },
     "execution_count": 4,
     "metadata": {},
     "output_type": "execute_result"
    }
   ],
   "source": [
    "import time\n",
    "import json\n",
    "import pyvisa\n",
    "import numpy as np\n",
    "import matplotlib.pyplot as plt\n",
    "import math\n",
    "from typing import Union, Any\n",
    "from pprint import pprint\n",
    "from time import sleep\n",
    "\n",
    "from qcodes import Parameter, Measurement, Station, load_or_create_experiment, initialise_or_create_database_at\n",
    "from qcodes.instrument.channel import ChannelList\n",
    "\n",
    "from pyvisa.constants import StopBits, Parity\n",
    "\n",
    "from qstl_instruments.qstl_qdac2 import QSTL_QDac2\n",
    "\n",
    "from qick import *\n",
    "from qick.averager_program import QickSweep\n",
    "from qick.pyro import make_proxy\n",
    "\n",
    "# Qick version : 0.2.357\n",
    "(soc, soccfg) = make_proxy(\"192.168.2.99\")\n",
    "\n",
    "rm = pyvisa.ResourceManager()\n",
    "rm.list_resources()"
   ]
  },
  {
   "cell_type": "markdown",
   "metadata": {},
   "source": [
    "## QICK Program"
   ]
  },
  {
   "cell_type": "code",
   "execution_count": 11,
   "metadata": {},
   "outputs": [],
   "source": [
    "class TrigProgram(AveragerProgram):\n",
    "    def initialize(self):\n",
    "        cfg = self.cfg\n",
    "        # Declare DC generation channel\n",
    "        self.declare_gen(\n",
    "            ch      = 0,        # Channel\n",
    "            nqz     = 1,        # Nyquist Zone\n",
    "        )\n",
    "        self.declare_readout(\n",
    "            ch      = 0,\n",
    "            length  = 160,\n",
    "        )\n",
    "        self.set_pulse_registers(\n",
    "            ch      = 0,        # Generator channel\n",
    "            style   = \"const\",  # Output is constant\n",
    "            gain    = 0,\n",
    "            mode    = \"periodic\",\n",
    "            length  = 32,\n",
    "            freq    = 0,\n",
    "            phase   = 0,\n",
    "            phrst   = 0,\n",
    "        )\n",
    "        self.set_readout_registers(\n",
    "            ch      = 0,        # Readout channel\n",
    "            freq    = 0,        # Readout DDS frequency\n",
    "            length  = 16,       # Readout DDS multiplication length\n",
    "            phrst   = 0,        # Readout DDS phase reset\n",
    "        )\n",
    "        self.synci(100)\n",
    "    def body(self):\n",
    "        cfg = self.cfg\n",
    "        self.pulse(\n",
    "            ch      = 0,        # Generator channel\n",
    "            t       = 100       # Pulse will be output @ sync_t + 100\n",
    "        )\n",
    "        self.readout(\n",
    "            ch      = 0,        # Readout channel\n",
    "            t       = 100       # Readout DDS will start multiplication\n",
    "                                # @ sync_t + 100\n",
    "        )\n",
    "        self.trigger(\n",
    "            adcs    = [0],      # Readout channels\n",
    "            pins    = [0],\n",
    "            adc_trig_offset = 50, # Readout will capture the data @ sync_t + 50\n",
    "            width   = 100\n",
    "        )\n",
    "        self.sync_all()\n"
   ]
  },
  {
   "cell_type": "markdown",
   "metadata": {},
   "source": [
    "## Trigger Execution"
   ]
  },
  {
   "cell_type": "code",
   "execution_count": 13,
   "metadata": {},
   "outputs": [
    {
     "data": {
      "text/plain": [
       "([array([0.])], [array([0.])])"
      ]
     },
     "execution_count": 13,
     "metadata": {},
     "output_type": "execute_result"
    }
   ],
   "source": [
    "cfg = {\n",
    "    # Experiment Setup\n",
    "    \"reps\" : 1,\n",
    "    \"duration\" : 1500,\n",
    "    \"expts\" : 1,\n",
    "}\n",
    "prog = TrigProgram(\n",
    "    soccfg,\n",
    "    cfg\n",
    ")\n",
    "prog.acquire(soc, progress = False)"
   ]
  }
 ],
 "metadata": {
  "kernelspec": {
   "display_name": "qcodes",
   "language": "python",
   "name": "python3"
  },
  "language_info": {
   "codemirror_mode": {
    "name": "ipython",
    "version": 3
   },
   "file_extension": ".py",
   "mimetype": "text/x-python",
   "name": "python",
   "nbconvert_exporter": "python",
   "pygments_lexer": "ipython3",
   "version": "3.12.9"
  }
 },
 "nbformat": 4,
 "nbformat_minor": 2
}
