{
 "cells": [
  {
   "cell_type": "markdown",
   "metadata": {},
   "source": [
    "# QDAC II QICK Trig Test"
   ]
  },
  {
   "cell_type": "markdown",
   "metadata": {},
   "source": [
    "## Import Libraries"
   ]
  },
  {
   "cell_type": "code",
   "execution_count": null,
   "metadata": {},
   "outputs": [
    {
     "data": {
      "text/plain": [
       "('ASRL1::INSTR',\n",
       " 'ASRL3::INSTR',\n",
       " 'ASRL5::INSTR',\n",
       " 'ASRL6::INSTR',\n",
       " 'ASRL8::INSTR',\n",
       " 'ASRL9::INSTR',\n",
       " 'ASRL10::INSTR',\n",
       " 'ASRL20::INSTR',\n",
       " 'ASRL21::INSTR',\n",
       " 'ASRL22::INSTR',\n",
       " 'ASRL23::INSTR',\n",
       " 'ASRL24::INSTR',\n",
       " 'ASRL25::INSTR',\n",
       " 'ASRL26::INSTR',\n",
       " 'ASRL27::INSTR',\n",
       " 'GPIB0::27::INSTR')"
      ]
     },
     "execution_count": 1,
     "metadata": {},
     "output_type": "execute_result"
    }
   ],
   "source": [
    "import time\n",
    "import json\n",
    "import pyvisa\n",
    "import numpy as np\n",
    "import matplotlib.pyplot as plt\n",
    "from time import sleep\n",
    "\n",
    "from qcodes import Parameter, Measurement, Station, load_or_create_experiment, initialise_or_create_database_at\n",
    "from qcodes.instrument.channel import ChannelList\n",
    "\n",
    "from qstl_instruments.qstl_qdac2 import QSTL_QDac2\n",
    "\n",
    "from pyvisa.constants import StopBits, Parity\n",
    "\n",
    "rm = pyvisa.ResourceManager()\n",
    "rm.list_resources()"
   ]
  }
 ],
 "metadata": {
  "kernelspec": {
   "display_name": "qcodes",
   "language": "python",
   "name": "python3"
  },
  "language_info": {
   "codemirror_mode": {
    "name": "ipython",
    "version": 3
   },
   "file_extension": ".py",
   "mimetype": "text/x-python",
   "name": "python",
   "nbconvert_exporter": "python",
   "pygments_lexer": "ipython3",
   "version": "3.12.9"
  }
 },
 "nbformat": 4,
 "nbformat_minor": 2
}
