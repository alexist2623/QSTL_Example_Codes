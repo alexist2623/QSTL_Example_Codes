{
 "cells": [
  {
   "cell_type": "markdown",
   "id": "930578a8",
   "metadata": {},
   "source": [
    "# QDAC Code Refactoring"
   ]
  },
  {
   "cell_type": "markdown",
   "id": "65e62033",
   "metadata": {},
   "source": [
    "## Import Libraries"
   ]
  },
  {
   "cell_type": "code",
   "execution_count": 2,
   "id": "2d11125e",
   "metadata": {},
   "outputs": [
    {
     "data": {
      "text/plain": [
       "('ASRL1::INSTR',\n",
       " 'ASRL3::INSTR',\n",
       " 'ASRL5::INSTR',\n",
       " 'ASRL6::INSTR',\n",
       " 'ASRL8::INSTR',\n",
       " 'ASRL9::INSTR',\n",
       " 'ASRL10::INSTR',\n",
       " 'ASRL20::INSTR',\n",
       " 'ASRL21::INSTR',\n",
       " 'ASRL22::INSTR',\n",
       " 'ASRL23::INSTR',\n",
       " 'ASRL24::INSTR',\n",
       " 'ASRL25::INSTR',\n",
       " 'ASRL26::INSTR',\n",
       " 'ASRL27::INSTR',\n",
       " 'GPIB0::27::INSTR')"
      ]
     },
     "execution_count": 2,
     "metadata": {},
     "output_type": "execute_result"
    }
   ],
   "source": [
    "import time\n",
    "import json\n",
    "import pyvisa\n",
    "import numpy as np\n",
    "import matplotlib.pyplot as plt\n",
    "from time import sleep\n",
    "\n",
    "from qcodes import Parameter, Measurement, Station, load_or_create_experiment, initialise_or_create_database_at\n",
    "from qcodes.instrument.channel import ChannelList\n",
    "\n",
    "from qstl_instruments.qstl_qdac2 import QSTL_QDac2\n",
    "from qstl_instruments.qstl_nidaq import QSTL_NIDaq\n",
    "from qstl_instruments.sg386 import SG386\n",
    "\n",
    "from pyvisa.constants import StopBits, Parity\n",
    "\n",
    "rm = pyvisa.ResourceManager()\n",
    "rm.list_resources()"
   ]
  },
  {
   "cell_type": "markdown",
   "id": "8c4ece51",
   "metadata": {},
   "source": [
    "## Instantiation of Instruments"
   ]
  },
  {
   "cell_type": "code",
   "execution_count": 3,
   "id": "ba2bd500",
   "metadata": {},
   "outputs": [
    {
     "name": "stdout",
     "output_type": "stream",
     "text": [
      "Connected to: QDevil QDAC-II (serial:368, firmware:13-1.57) in 0.09s\n",
      "Connected to: Stanford Research Systems SG386 (serial:s/n004342, firmware:ver1.50.26) in 0.02s\n"
     ]
    },
    {
     "data": {
      "text/plain": [
       "{'C1': 0.1916136, 'C2': 0.1895836, 'C3': 0.0}"
      ]
     },
     "execution_count": 3,
     "metadata": {},
     "output_type": "execute_result"
    }
   ],
   "source": [
    "## Dunker numbering\n",
    "contacts = {\"C1\":1, \"C2\":2, \"C3\":3}\n",
    "## SET gnd: 3, DQD gnd: 6\n",
    "ai_chans = {\"I1\":\"Dev2/ai0\", \"I2\":\"Dev2/ai1\", \"I3\":\"Dev2/ai2\"}\n",
    "initialise_or_create_database_at(\"./QDAC_IQ_Mod_Test.db\")\n",
    "\n",
    "qdac2 = QSTL_QDac2(\n",
    "    name = \"qdac2\",\n",
    "    address = \"ASRL5::INSTR\",\n",
    "    ramp_rate = 1,\n",
    "    i_threshold = 2e-9,\n",
    "    v_limit = 0.5,\n",
    "    contacts = contacts\n",
    ")\n",
    "station = Station(qdac2)\n",
    "daq = QSTL_NIDaq(\n",
    "    max_sampling_rate = int(1e6),\n",
    "    gain = 1e8\n",
    ")\n",
    "srs_rf = SG386(\n",
    "    name = \"SRS_SG386\",\n",
    "    address = \"GPIB0::27::INSTR\"\n",
    ")\n",
    "\n",
    "qdac2.ramp_all_channels_to_zero()\n",
    "qdac2.get_initial_voltages()"
   ]
  },
  {
   "cell_type": "markdown",
   "id": "51dd3272",
   "metadata": {},
   "source": [
    "## QDAC2 Parameter Setup"
   ]
  },
  {
   "cell_type": "code",
   "execution_count": 14,
   "id": "0f26d8a3",
   "metadata": {},
   "outputs": [
    {
     "data": {
      "text/plain": [
       "<qcodes.dataset.measurements.Measurement at 0x1b5a2dbe6c0>"
      ]
     },
     "execution_count": 14,
     "metadata": {},
     "output_type": "execute_result"
    }
   ],
   "source": [
    "## setup qdac 2 for the 2D sweep\n",
    "qdac2.free_all_triggers()\n",
    "qdac2.ext3.delay_s(0)\n",
    "qdac2.v_limit = 1.2\n",
    "\n",
    "device1 = \"I1\"\n",
    "device2 = \"I2\"\n",
    "\n",
    "slow_chans = [\"C1\"]\n",
    "fast_chans = [\"C2\"]\n",
    "\n",
    "slow_start = 0\n",
    "slow_end = 0.2\n",
    "slow_steps = 10\n",
    "\n",
    "fast_start = 0\n",
    "fast_end = 0.2\n",
    "fast_steps = 10\n",
    "fast_step_time_s = 0.20\n",
    "\n",
    "qdac2.channels[0:23].dc_slew_rate_V_per_s('inf')\n",
    "\n",
    "for i in [slow_start, slow_end, fast_start, fast_end]:\n",
    "    qdac2.validate_voltages([i]) ## validate all the voltages\n",
    "\n",
    "slow_vs = np.linspace(slow_start, slow_end, slow_steps, endpoint=True)\n",
    "fast_vs = np.linspace(fast_start, fast_end, fast_steps, endpoint=True)\n",
    "\n",
    "exp = load_or_create_experiment('2D sweep', \"QDAC+NiDAQ_RF_test_100us_420MHz_LO_test_CH1_I_CH2_Q_I1_I_demod\")\n",
    "meas = Measurement(exp=exp, station=station)\n",
    "\n",
    "Vslow = Parameter(name='Vslow', label=str(slow_chans), unit=\"V\")\n",
    "Vfast = Parameter(name=\"Vfast\", label=str(fast_chans), unit=\"V\")\n",
    "\n",
    "I = Parameter(name= \"I\", label=\"I\", unit=\"V\")\n",
    "Q = Parameter(name= \"Q\", label=\"Q\", unit=\"V\")\n",
    "\n",
    "meas.register_parameter(Vfast)\n",
    "meas.register_parameter(Vslow)\n",
    "meas.register_parameter(I, setpoints = (Vfast, Vslow))\n",
    "meas.register_parameter(Q, setpoints = (Vfast, Vslow))"
   ]
  },
  {
   "cell_type": "markdown",
   "id": "c705845f",
   "metadata": {},
   "source": [
    "## Measurement (Single Channel)"
   ]
  },
  {
   "cell_type": "code",
   "execution_count": 5,
   "id": "6de459a1",
   "metadata": {},
   "outputs": [
    {
     "name": "stdout",
     "output_type": "stream",
     "text": [
      "Starting experimental run with id: 153. \n",
      "Time elapsed: 2.39 sec. Loop finished: 1/10.\n",
      "Time elapsed: 4.68 sec. Loop finished: 2/10.\n",
      "Time elapsed: 6.99 sec. Loop finished: 3/10.\n",
      "Time elapsed: 9.28 sec. Loop finished: 4/10.\n",
      "Time elapsed: 11.57 sec. Loop finished: 5/10.\n",
      "Time elapsed: 13.87 sec. Loop finished: 6/10.\n",
      "Time elapsed: 16.17 sec. Loop finished: 7/10.\n",
      "Time elapsed: 18.48 sec. Loop finished: 8/10.\n",
      "Time elapsed: 20.77 sec. Loop finished: 9/10.\n",
      "Time elapsed: 23.06 sec. Loop finished: 10/10.\n",
      "Time elapsed: 23.07 sec.\n"
     ]
    }
   ],
   "source": [
    "sweep_time = fast_steps * fast_step_time_s\n",
    "samples_per_fast_scan_per_channel = fast_steps * int(fast_step_time_s * daq.max_sampling_rate/2)\n",
    "\n",
    "arrangement = qdac2.arrange(\n",
    "        contacts= {x: contacts[x] for x in fast_chans},\n",
    "        output_triggers={'NIDAQ': 5}\n",
    ")\n",
    "\n",
    "sweep = arrangement.virtual_detune(\n",
    "        contacts=tuple(fast_chans),\n",
    "        start_V=(fast_start,) * len(fast_chans), ## a tuple with same length\n",
    "        end_V=(fast_end,) * len(fast_chans),\n",
    "        steps=fast_steps,\n",
    "        step_trigger='NIDAQ',\n",
    "        step_time_s = fast_step_time_s,\n",
    "        repetitions=1\n",
    ")\n",
    "\n",
    "InitialConditions= qdac2.get_initial_voltages()\n",
    "\n",
    "start_time = time.time()\n",
    "with meas.run() as datasaver:\n",
    "        loop_counter = 0\n",
    "        datasaver.dataset.add_metadata(tag=\"Contacts\", metadata=json.dumps(contacts))\n",
    "        datasaver.dataset.add_metadata(tag=\"IC\", metadata=json.dumps(InitialConditions))\n",
    "        datasaver.dataset.add_metadata(tag=\"Sweep_params\", metadata=json.dumps({\"slow_chans\": slow_chans, \"slow_start\":slow_start, \"slow_end\": slow_end, \"fast_chans\":fast_chans, \"fast_start\":fast_start, \"fast_end\":fast_end,\"fast_step_time_s\": fast_step_time_s} ))\n",
    "        for slow_v in slow_vs:\n",
    "                # sleep(0.100)\n",
    "                qdac2.ramp_channels(slow_chans, [slow_v])\n",
    "                result_0 = daq.read_triggered_voltage(sweep, ai_chans[device1], samples_per_fast_scan_per_channel, -1, +1, sweep_time+1)\n",
    "                result_0 = daq.reshape_array(result_0, fast_steps)\n",
    "\n",
    "                result_1 = daq.read_triggered_voltage(sweep, ai_chans[device2], samples_per_fast_scan_per_channel, -1, +1, sweep_time+1)\n",
    "                result_1 = daq.reshape_array(result_1, fast_steps)\n",
    "\n",
    "                amp = np.abs(result_0+1j*result_1)\n",
    "                phase = np.angle(result_0+1j*result_1, deg=True)\n",
    "\n",
    "                datasaver.add_result( (Vslow, [slow_v]*fast_steps), (Vfast, fast_vs), (I, result_0), (Q, result_1))\n",
    "                loop_counter = loop_counter+1\n",
    "                print(f'Time elapsed: {np.round(time.time()-start_time, 2)} sec. Loop finished: {loop_counter}/{slow_steps}.')\n",
    "end_time = time.time()\n",
    "print(f'Time elapsed: {np.round(end_time-start_time, 2)} sec.')\n",
    "\n",
    "qdac2.channels[0:23].dc_slew_rate_V_per_s(1)"
   ]
  },
  {
   "cell_type": "markdown",
   "id": "cc5bd252",
   "metadata": {},
   "source": [
    "## Measurement (Multi Channel)"
   ]
  },
  {
   "cell_type": "code",
   "execution_count": 15,
   "id": "7cff086e",
   "metadata": {},
   "outputs": [
    {
     "name": "stdout",
     "output_type": "stream",
     "text": [
      "Starting experimental run with id: 158. \n",
      "Time elapsed: 2.37 sec. Loop finished: 1/10.\n",
      "Time elapsed: 4.53 sec. Loop finished: 2/10.\n",
      "Time elapsed: 6.69 sec. Loop finished: 3/10.\n",
      "Time elapsed: 8.84 sec. Loop finished: 4/10.\n",
      "Time elapsed: 11.01 sec. Loop finished: 5/10.\n",
      "Time elapsed: 13.19 sec. Loop finished: 6/10.\n",
      "Time elapsed: 15.35 sec. Loop finished: 7/10.\n",
      "Time elapsed: 17.51 sec. Loop finished: 8/10.\n",
      "Time elapsed: 19.66 sec. Loop finished: 9/10.\n",
      "Time elapsed: 21.8 sec. Loop finished: 10/10.\n",
      "Time elapsed: 21.81 sec.\n"
     ]
    }
   ],
   "source": [
    "sweep_time = fast_steps*fast_step_time_s\n",
    "samples_per_fast_scan_per_channel = fast_steps*int(fast_step_time_s*daq.max_sampling_rate/2)\n",
    "\n",
    "arrangement = qdac2.arrange(\n",
    "        contacts= {x: contacts[x] for x in fast_chans},\n",
    "        output_triggers={'NIDAQ': 5})\n",
    "\n",
    "sweep = arrangement.virtual_detune(\n",
    "        contacts=tuple(fast_chans),\n",
    "        start_V=(fast_start,)*len(fast_chans), ## a tuple with same length\n",
    "        end_V=(fast_end,)*len(fast_chans),\n",
    "        steps=fast_steps,\n",
    "        step_trigger='NIDAQ',\n",
    "        step_time_s = fast_step_time_s,\n",
    "        repetitions=1\n",
    ")\n",
    "\n",
    "InitialConditions = qdac2.get_initial_voltages()\n",
    "\n",
    "start_time = time.time()\n",
    "with meas.run() as datasaver:\n",
    "        loop_counter = 0\n",
    "        datasaver.dataset.add_metadata(tag=\"Contacts\", metadata=json.dumps(contacts))\n",
    "        datasaver.dataset.add_metadata(tag=\"IC\", metadata=json.dumps(InitialConditions))\n",
    "        datasaver.dataset.add_metadata(tag=\"Sweep_params\", metadata=json.dumps({\"slow_chans\": slow_chans, \"slow_start\":slow_start, \"slow_end\": slow_end, \"fast_chans\":fast_chans, \"fast_start\":fast_start, \"fast_end\":fast_end,\"fast_step_time_s\": fast_step_time_s} ))\n",
    "        for slow_v in slow_vs:\n",
    "                qdac2.ramp_channels(slow_chans, [slow_v])\n",
    "                result = daq.read_triggered_multi_channels(sweep, [ai_chans[device1], ai_chans[device2]], samples_per_fast_scan_per_channel, -1, +1, sweep_time+1)\n",
    "                result_0 = daq.reshape_array(result[0,:], fast_steps)\n",
    "                result_1 = daq.reshape_array(result[1,:], fast_steps)\n",
    "                datasaver.add_result( (Vslow, [slow_v]*fast_steps), (Vfast, fast_vs), (I, result_0) , (Q, result_1))\n",
    "                loop_counter = loop_counter+1\n",
    "                print(f'Time elapsed: {np.round(time.time()-start_time, 2)} sec. Loop finished: {loop_counter}/{slow_steps}.')\n",
    "end_time = time.time()\n",
    "print(f'Time elapsed: {np.round(end_time-start_time, 2)} sec.')\n",
    "\n",
    "qdac2.channels[0:23].dc_slew_rate_V_per_s(1)"
   ]
  },
  {
   "cell_type": "markdown",
   "id": "23442ac9",
   "metadata": {},
   "source": [
    "## SRS RF Generator Control"
   ]
  },
  {
   "cell_type": "code",
   "execution_count": 12,
   "id": "2bff1ad8",
   "metadata": {},
   "outputs": [],
   "source": [
    "srs_rf.enable_RF(\"ON\")\n",
    "srs_rf.frequency(420e6)"
   ]
  },
  {
   "cell_type": "code",
   "execution_count": 16,
   "id": "bec45d18",
   "metadata": {},
   "outputs": [],
   "source": [
    "srs_rf.enable_RF(\"OFF\")"
   ]
  }
 ],
 "metadata": {
  "kernelspec": {
   "display_name": "qcodes",
   "language": "python",
   "name": "python3"
  },
  "language_info": {
   "codemirror_mode": {
    "name": "ipython",
    "version": 3
   },
   "file_extension": ".py",
   "mimetype": "text/x-python",
   "name": "python",
   "nbconvert_exporter": "python",
   "pygments_lexer": "ipython3",
   "version": "3.12.9"
  }
 },
 "nbformat": 4,
 "nbformat_minor": 5
}
