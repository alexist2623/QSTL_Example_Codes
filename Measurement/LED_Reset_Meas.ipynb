{
 "cells": [
  {
   "cell_type": "markdown",
   "metadata": {},
   "source": [
    "# Instrument Connection"
   ]
  },
  {
   "cell_type": "code",
   "execution_count": 3,
   "metadata": {},
   "outputs": [
    {
     "name": "stdout",
     "output_type": "stream",
     "text": [
      "('ASRL1::INSTR',\n",
      " 'ASRL4::INSTR',\n",
      " 'ASRL5::INSTR',\n",
      " 'ASRL6::INSTR',\n",
      " 'ASRL7::INSTR',\n",
      " 'ASRL8::INSTR',\n",
      " 'ASRL10::INSTR',\n",
      " 'ASRL15::INSTR',\n",
      " 'GPIB1::3::INSTR',\n",
      " 'GPIB2::3::INSTR',\n",
      " 'GPIB2::4::INSTR',\n",
      " 'USB0::0xB506::0x2000::005808::0::INSTR',\n",
      " 'USB0::0xB506::0x2000::123456::0::INSTR')\n"
     ]
    }
   ],
   "source": [
    "# !pip install srsinst.sr860\n",
    "# !pip install pymeasure\n",
    "# !pip install lmdb\n",
    "import h5py\n",
    "import time\n",
    "import numpy as np\n",
    "import pandas as pd\n",
    "import pyvisa as visa\n",
    "from pprint import pprint\n",
    "from typing import Dict\n",
    "from datetime import datetime\n",
    "\n",
    "from srsinst.sr860 import SR860\n",
    "from pymeasure.instruments.keithley import Keithley2400\n",
    "\n",
    "rm = visa.ResourceManager()\n",
    "# Show candidates of devices\n",
    "pprint(rm.list_resources())\n",
    "\n",
    "visa_addr_top = \"GPIB2::4::INSTR\"\n",
    "visa_addr_keithley = \"GPIB2::3::INSTR\"\n",
    "\n",
    "lockin1 = SR860(\"visa\", visa_addr_top)\n",
    "gate = Keithley2400(visa_addr_keithley)"
   ]
  },
  {
   "cell_type": "markdown",
   "metadata": {},
   "source": [
    "# Instrument Connection Check"
   ]
  },
  {
   "cell_type": "code",
   "execution_count": 4,
   "metadata": {},
   "outputs": [
    {
     "name": "stdout",
     "output_type": "stream",
     "text": [
      "Stanford_Research_Systems,SR860,005808,1.55\n",
      "\n",
      "successfully connected to top SR860...\n",
      "KEITHLEY INSTRUMENTS INC.,MODEL 2401,4631577,B02 Jan 20 2021 10:19:49/B01  /W/N\n",
      "\n",
      "successfully connected to Keithley...\n"
     ]
    }
   ],
   "source": [
    "# Check instrument with below code\n",
    "\n",
    "instrument = rm.open_resource(visa_addr_top)\n",
    "idn_response = instrument.query(\"*IDN?\")\n",
    "print(idn_response) # Stanford_Research_Systems,SR860,005808,1.55\n",
    "\n",
    "if not \"Stanford_Research_Systems,SR860\" in idn_response:\n",
    "    raise Exception(\"It is not SR860...\")\n",
    "else:\n",
    "    print(\"successfully connected to top SR860...\")\n",
    "\n",
    "    \n",
    "instrument = rm.open_resource(visa_addr_keithley)\n",
    "idn_response = instrument.query(\"*IDN?\")\n",
    "print(idn_response) # KEITHLEY INSTRUMENTS INC.,MODEL 2401,4631577,B02 Jan 20 2021 10:19:49/B01  /W/N\n",
    "\n",
    "if not \"KEITHLEY INSTRUMENTS INC.,MODEL 2401\" in idn_response:\n",
    "    raise Exception(\"It is not Keithley...\")\n",
    "else:\n",
    "    print(\"successfully connected to Keithley...\")"
   ]
  },
  {
   "cell_type": "markdown",
   "metadata": {},
   "source": [
    "# Measurement Function"
   ]
  },
  {
   "cell_type": "code",
   "execution_count": 5,
   "metadata": {},
   "outputs": [],
   "source": [
    "def measurement(\n",
    "    v_g: float = 0,\n",
    "    lockin1: SR860 = None,\n",
    "    gate: Keithley2400 = None,\n",
    ") -> Dict[\n",
    "    str, int\n",
    "]:\n",
    "    \"\"\"\n",
    "    Measure with lockin instrument\n",
    "    \"\"\"\n",
    "    gate.enable_source()\n",
    "    gate.ramp_to_voltage(v_g, steps = 2, pause = 0.1)\n",
    "    lock_in_wait_time = 3 * 0.3\n",
    "    time.sleep(lock_in_wait_time)\n",
    "\n",
    "    x1 = lockin1.data.get_values(\"X\",\"Y\")[0]\n",
    "    y1 = lockin1.data.get_values(\"X\",\"Y\")[1]\n",
    "    r1 = lockin1.data.get_values(\"R\",\"Theta\")[0]\n",
    "    theta1 = lockin1.data.get_values(\"R\",\"Theta\")[1]\n",
    "\n",
    "    return {\n",
    "        \"X\" : x1,\n",
    "        \"Y\" : y1,\n",
    "        \"R\" : r1,\n",
    "        \"angle\" : theta1\n",
    "    }\n"
   ]
  },
  {
   "cell_type": "markdown",
   "metadata": {},
   "source": [
    "# Data Measurement"
   ]
  },
  {
   "cell_type": "code",
   "execution_count": 8,
   "metadata": {},
   "outputs": [],
   "source": [
    "# Disable Keithley 2400 output\n",
    "gate.apply_voltage()\n",
    "gate.disable_source()\n",
    "# Set Keithley 2400 voltage\n",
    "gate.source_voltage_range = 5.0\n",
    "gate.source_voltage = 0.0\n",
    "\n",
    "# Set Keithley 2400 compliance current\n",
    "gate.source_current_range = 1e-9\n",
    "gate.compliance_current = 100e-9\n",
    "\n",
    "# Setup upper lockin device\n",
    "V_bias = 100e-6\n",
    "time_constant = 0.3\n",
    "\n",
    "lockin1.ref.sine_out_amplitude = V_bias\n",
    "lockin1.ref.frequency = 43.5371\n",
    "lockin1.ref.phase = 0\n",
    "lockin1.signal.filter_slope = 24\n",
    "lockin1.signal.advanced_filter = \"on\"\n",
    "lockin1.signal.time_constant = time_constant\n",
    "\n",
    "lock_in_wait_time = 3 * time_constant\n",
    "\n",
    "v_g_list = np.linspace(0, 5.0, 3)\n",
    "\n",
    "time.sleep(0.1)\n",
    "\n",
    "data_set = {\n",
    "    \"X\" : [],\n",
    "    \"Y\" : [],\n",
    "    \"R\" : [],\n",
    "    \"angle\" : [],\n",
    "}\n",
    "\n",
    "for v_g in v_g_list:\n",
    "    meas_data = measurement(\n",
    "        v_g = v_g,\n",
    "        lockin1 = lockin1,\n",
    "        gate = gate,\n",
    "    )\n",
    "    data_set[\"X\"].append([v_g, meas_data[\"X\"]])\n",
    "    data_set[\"Y\"].append([v_g, meas_data[\"Y\"]])\n",
    "    data_set[\"R\"].append([v_g, meas_data[\"R\"]])\n",
    "    data_set[\"angle\"].append([v_g, meas_data[\"angle\"]])\n",
    "\n",
    "    time.sleep(1)\n",
    "\n",
    "\n",
    "# Disable instrument outputs\n",
    "gate.disable_source()\n",
    "lockin1.ref.sine_out_amplitude = 0.0\n",
    "\n",
    "naive_dt = datetime.now()\n",
    "_date = naive_dt.strftime(\"%Y-%m-%d_%H_%M_%S\")\n",
    "with h5py.File(f\"led_data_{_date}.h5\", \"w\") as f:\n",
    "    for key, value in data_set.items():\n",
    "        if isinstance(value, dict):\n",
    "            # Create a group for nested dictionaries\n",
    "            group = f.create_group(key)\n",
    "            for sub_key, sub_value in value.items():\n",
    "                group.create_dataset(sub_key, data=sub_value)\n",
    "        else:\n",
    "            # Store other data types as datasets\n",
    "            f.create_dataset(key, data=value)"
   ]
  },
  {
   "cell_type": "markdown",
   "metadata": {},
   "source": []
  },
  {
   "cell_type": "code",
   "execution_count": null,
   "metadata": {},
   "outputs": [],
   "source": []
  }
 ],
 "metadata": {
  "kernelspec": {
   "display_name": "qcodes2",
   "language": "python",
   "name": "python3"
  },
  "language_info": {
   "codemirror_mode": {
    "name": "ipython",
    "version": 3
   },
   "file_extension": ".py",
   "mimetype": "text/x-python",
   "name": "python",
   "nbconvert_exporter": "python",
   "pygments_lexer": "ipython3",
   "version": "3.12.9"
  }
 },
 "nbformat": 4,
 "nbformat_minor": 2
}
