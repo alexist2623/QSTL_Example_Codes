{
 "cells": [
  {
   "cell_type": "code",
   "execution_count": 413,
   "id": "14b9c4e4",
   "metadata": {},
   "outputs": [],
   "source": [
    "\"\"\"\n",
    "Qick based qubit measurement example (maybe LC tank?)\n",
    "\n",
    "RF Out     ____~~~~~~~~~~~~~~~~~~~~. . . .~~~~~~~~~~~~~~~~~~~~___\n",
    "Digitizer  ____|‾‾‾‾‾|_|‾‾‾‾‾|_|‾‾‾. . . .‾‾‾|_|‾‾‾‾‾|_|‾‾‾‾‾|___\n",
    "Measured Data   IQ[0]   IQ[1]      . . . .      IQ[78]  IQ[79]\n",
    "\"\"\"\n",
    "import numpy as np\n",
    "import math\n",
    "import matplotlib.pyplot as plt\n",
    "import time\n",
    "\n",
    "from qick import *\n",
    "from qick.averager_program import QickSweep\n",
    "from qick.pyro import make_proxy\n",
    "\n",
    "class LongDurationPulseExample(RAveragerProgram):\n",
    "    def initialize(self):\n",
    "        # Set the nyquist zone\n",
    "        cfg = self.cfg\n",
    "        freq_rf     = cfg[\"start\"]\n",
    "        # Declare RF generation channel\n",
    "        self.declare_gen(\n",
    "            ch      = 0,        # Channel\n",
    "            nqz     = 2         # Nyquist Zone\n",
    "        )\n",
    "        # Declare RF input channel\n",
    "        self.declare_readout(\n",
    "            ch      = 0,        # Channel\n",
    "            length  = int(cfg[\"pulse_time\"] * 3/4) - 10,    # Readout length\n",
    "                                                            # 10 is subtracted to\n",
    "                                                            # make margin in timing\n",
    "        )\n",
    "        (self.ro_rp, self.ro_freq) = self._ro_regmap[0, \"freq\"]\n",
    "        (self.gen_rp, self.gen_freq) = self._gen_regmap[0, \"freq\"]\n",
    "        # Convert RF frequency to DAC DDS register value\n",
    "        self.freq_dac = self.freq2reg(\n",
    "            f       = freq_rf,  # Frequency\n",
    "            gen_ch  = 0,        # Generator channel\n",
    "            ro_ch   = 0         # Readout channel for round up\n",
    "        )\n",
    "        # Convert RF frequency to ADC DDS register value\n",
    "        self.freq_adc    = self.freq2reg_adc(\n",
    "            f       = freq_rf,  # Frequency\n",
    "            ro_ch   = 0,        # Readout channel\n",
    "            gen_ch  = 0         # Generator channel for round up\n",
    "        )\n",
    "        # Make endless pulse\n",
    "        self.set_pulse_registers(\n",
    "            ch      = 0,            # Generator channel\n",
    "            style   = \"const\",      # Output is envelope * gain * DDS output\n",
    "            freq    = self.freq_dac, # Generator DDS frequency\n",
    "            phase   = self.deg2reg(0, gen_ch = 0),        # Generator DDS phase\n",
    "            gain    = cfg[\"gain\"],  # Generator amplitude\n",
    "            phrst   = 0,            # Generator DDS phase reset\n",
    "            length  = 100,          # Dummy length\n",
    "            mode    = \"periodic\",   # Set pulse mode to periodic\n",
    "        )\n",
    "        self.set_readout_registers(\n",
    "            ch      = 0,        # Readout channel\n",
    "            freq    = self.freq_adc, # Readout DDS frequency\n",
    "            length  = 16,       # Dummy length\n",
    "            phrst   = 0,        # Readout DDS phase reset\n",
    "            mode    = \"periodic\",   # Set pulse mode to periodic\n",
    "        )\n",
    "        self.synci(100000)\n",
    "\n",
    "    def body(self):\n",
    "        cfg = self.cfg\n",
    "        # Put the generator's frequency register to temporary register (page : 0, register : 6)\n",
    "        self.mathi(self.gen_rp, 6, self.gen_freq, '+', 0)\n",
    "        self.mathi(self.ro_rp, 6, self.ro_freq, '+', 0)\n",
    "        # Make endless pulse\n",
    "        self.set_pulse_registers(\n",
    "            ch      = 0,            # Generator channel\n",
    "            style   = \"const\",      # Output is envelope * gain * DDS output\n",
    "            freq    = self.freq_dac,    # Generator DDS frequency\n",
    "            phase   = self.deg2reg(0, gen_ch = 0),        # Generator DDS phase\n",
    "            gain    = cfg[\"gain\"],  # Generator amplitude\n",
    "            phrst   = 0,            # Generator DDS phase reset\n",
    "            length  = 100,          # Dummy length\n",
    "            mode    = \"periodic\",   # Set pulse mode to periodic\n",
    "        )\n",
    "        # Set demodulator DDS\n",
    "        self.set_readout_registers(\n",
    "            ch      = 0,        # Readout channel\n",
    "            freq    = self.freq_adc, # Readout DDS frequency\n",
    "            length  = 16,       # Dummy length\n",
    "            phrst   = 0,        # Readout DDS phase reset\n",
    "            mode    = \"periodic\",   # Set pulse mode to periodic\n",
    "        )\n",
    "        self.mathi(self.gen_rp, self.gen_freq, 6, '+', 0)\n",
    "        self.pulse(\n",
    "            ch      = 0,        # Generator channel\n",
    "            t       = 100\n",
    "        )\n",
    "        \n",
    "        self.mathi(self.ro_rp, self.ro_freq, 6, '+', 0)\n",
    "        self.readout(\n",
    "            ch      = 0,        # Readout channel\n",
    "            t       = 100       # Readout DDS will start multiplication\n",
    "                                # @ sync_t + 100\n",
    "        )\n",
    "        # Make measurement triggers and shift t_sync\n",
    "        for i in range(cfg[\"number_of_pulse\"]):\n",
    "            self.trigger(\n",
    "                adcs    = [0],      # Readout channels\n",
    "                adc_trig_offset = 150 # Readout will capture the data @ sync_t + 50\n",
    "            )\n",
    "            self.sync_all()\n",
    "        \n",
    "        self.set_pulse_registers(\n",
    "            ch      = 0,            # Generator channel\n",
    "            style   = \"const\",      # Output is envelope * gain * DDS output\n",
    "            freq    = self.freq_dac,    # Generator DDS frequency\n",
    "            phase   = self.deg2reg(0, gen_ch = 0),        # Generator DDS phase\n",
    "            gain    = 0,  # Generator amplitude\n",
    "            phrst   = 0,            # Generator DDS phase reset\n",
    "            length  = 100,          # Dummy length\n",
    "            mode    = \"periodic\",   # Set pulse mode to periodic\n",
    "        )\n",
    "        self.mathi(self.gen_rp, self.gen_freq, 6, '+', 0)\n",
    "        self.pulse(\n",
    "            ch      = 0,        # Generator channel\n",
    "            t       = 100\n",
    "        )\n",
    "        self.sync_all(10000)\n",
    "        # Make sure that do not read buffer before experiment ends\n",
    "        self.wait_all()\n",
    "    \n",
    "    def update(self): \n",
    "        # Update readout frequency register \n",
    "        self.mathi(\n",
    "            self.ro_rp, self.ro_freq, self.ro_freq, '+',\n",
    "            self.freq2reg_adc(self.cfg[\"step\"], 0, 0)\n",
    "        )\n",
    "        # Update generator frequency register\n",
    "        self.mathi(\n",
    "            self.gen_rp, self.gen_freq, self.gen_freq, '+',\n",
    "            self.freq2reg(self.cfg[\"step\"], 0, 0)\n",
    "        )\n",
    "        self.synci(1000)\n",
    "\n"
   ]
  },
  {
   "cell_type": "code",
   "execution_count": 500,
   "id": "7f720e76",
   "metadata": {},
   "outputs": [
    {
     "name": "stdout",
     "output_type": "stream",
     "text": [
      "Pyro.NameServer PYRO:Pyro.NameServer@0.0.0.0:8888\n",
      "myqick PYRO:obj_4e4a87e885d1473091c53bd4c2c7c826@192.168.2.99:44075\n",
      "meas time : 0.050 ms\n"
     ]
    },
    {
     "name": "stderr",
     "output_type": "stream",
     "text": [
      "100%|██████████| 320/320 [00:00<00:00, 10888.02it/s]"
     ]
    },
    {
     "name": "stdout",
     "output_type": "stream",
     "text": [
      "Acquisition time for : 0.05593609809875488 s\n"
     ]
    },
    {
     "name": "stderr",
     "output_type": "stream",
     "text": [
      "\n"
     ]
    },
    {
     "name": "stdout",
     "output_type": "stream",
     "text": [
      "meas time : 0.050 ms\n"
     ]
    },
    {
     "name": "stderr",
     "output_type": "stream",
     "text": [
      "100%|██████████| 320/320 [00:00<00:00, 11037.64it/s]"
     ]
    },
    {
     "name": "stdout",
     "output_type": "stream",
     "text": [
      "Acquisition time for : 0.053587913513183594 s\n"
     ]
    },
    {
     "name": "stderr",
     "output_type": "stream",
     "text": [
      "\n"
     ]
    },
    {
     "name": "stdout",
     "output_type": "stream",
     "text": [
      "meas time : 0.050 ms\n"
     ]
    },
    {
     "name": "stderr",
     "output_type": "stream",
     "text": [
      "100%|██████████| 320/320 [00:00<00:00, 10895.00it/s]"
     ]
    },
    {
     "name": "stdout",
     "output_type": "stream",
     "text": [
      "Acquisition time for : 0.055728912353515625 s\n"
     ]
    },
    {
     "name": "stderr",
     "output_type": "stream",
     "text": [
      "\n"
     ]
    },
    {
     "name": "stdout",
     "output_type": "stream",
     "text": [
      "meas time : 0.050 ms\n"
     ]
    },
    {
     "name": "stderr",
     "output_type": "stream",
     "text": [
      "100%|██████████| 320/320 [00:00<00:00, 10600.29it/s]"
     ]
    },
    {
     "name": "stdout",
     "output_type": "stream",
     "text": [
      "Acquisition time for : 0.06047773361206055 s\n"
     ]
    },
    {
     "name": "stderr",
     "output_type": "stream",
     "text": [
      "\n"
     ]
    },
    {
     "name": "stdout",
     "output_type": "stream",
     "text": [
      "meas time : 0.050 ms\n"
     ]
    },
    {
     "name": "stderr",
     "output_type": "stream",
     "text": [
      "100%|██████████| 320/320 [00:00<00:00, 10732.01it/s]"
     ]
    },
    {
     "name": "stdout",
     "output_type": "stream",
     "text": [
      "Acquisition time for : 0.057128190994262695 s\n"
     ]
    },
    {
     "name": "stderr",
     "output_type": "stream",
     "text": [
      "\n"
     ]
    },
    {
     "name": "stdout",
     "output_type": "stream",
     "text": [
      "meas time : 0.050 ms\n"
     ]
    },
    {
     "name": "stderr",
     "output_type": "stream",
     "text": [
      "100%|██████████| 320/320 [00:00<00:00, 10742.32it/s]"
     ]
    },
    {
     "name": "stdout",
     "output_type": "stream",
     "text": [
      "Acquisition time for : 0.05536174774169922 s\n"
     ]
    },
    {
     "name": "stderr",
     "output_type": "stream",
     "text": [
      "\n",
      "C:\\Users\\Measurement1\\AppData\\Roaming\\Python\\Python37\\site-packages\\ipykernel_launcher.py:59: RuntimeWarning: More than 20 figures have been opened. Figures created through the pyplot interface (`matplotlib.pyplot.figure`) are retained until explicitly closed and may consume too much memory. (To control this warning, see the rcParam `figure.max_open_warning`).\n"
     ]
    },
    {
     "name": "stdout",
     "output_type": "stream",
     "text": [
      "meas time : 0.050 ms\n"
     ]
    },
    {
     "name": "stderr",
     "output_type": "stream",
     "text": [
      "100%|██████████| 320/320 [00:00<00:00, 10842.81it/s]"
     ]
    },
    {
     "name": "stdout",
     "output_type": "stream",
     "text": [
      "Acquisition time for : 0.05594277381896973 s\n"
     ]
    },
    {
     "name": "stderr",
     "output_type": "stream",
     "text": [
      "\n"
     ]
    },
    {
     "name": "stdout",
     "output_type": "stream",
     "text": [
      "meas time : 0.050 ms\n"
     ]
    },
    {
     "name": "stderr",
     "output_type": "stream",
     "text": [
      "100%|██████████| 320/320 [00:00<00:00, 10959.59it/s]"
     ]
    },
    {
     "name": "stdout",
     "output_type": "stream",
     "text": [
      "Acquisition time for : 0.0571744441986084 s\n"
     ]
    },
    {
     "name": "stderr",
     "output_type": "stream",
     "text": [
      "\n"
     ]
    },
    {
     "name": "stdout",
     "output_type": "stream",
     "text": [
      "meas time : 0.500 ms\n"
     ]
    },
    {
     "name": "stderr",
     "output_type": "stream",
     "text": [
      "100%|██████████| 320/320 [00:00<00:00, 1820.19it/s]\n"
     ]
    },
    {
     "name": "stdout",
     "output_type": "stream",
     "text": [
      "Acquisition time for : 0.20195674896240234 s\n",
      "meas time : 0.500 ms\n"
     ]
    },
    {
     "name": "stderr",
     "output_type": "stream",
     "text": [
      "100%|██████████| 320/320 [00:00<00:00, 1839.99it/s]\n"
     ]
    },
    {
     "name": "stdout",
     "output_type": "stream",
     "text": [
      "Acquisition time for : 0.20010089874267578 s\n",
      "meas time : 0.500 ms\n"
     ]
    },
    {
     "name": "stderr",
     "output_type": "stream",
     "text": [
      "100%|██████████| 320/320 [00:00<00:00, 1833.32it/s]\n"
     ]
    },
    {
     "name": "stdout",
     "output_type": "stream",
     "text": [
      "Acquisition time for : 0.19912981986999512 s\n",
      "meas time : 0.500 ms\n"
     ]
    },
    {
     "name": "stderr",
     "output_type": "stream",
     "text": [
      "100%|██████████| 320/320 [00:00<00:00, 1832.71it/s]\n"
     ]
    },
    {
     "name": "stdout",
     "output_type": "stream",
     "text": [
      "Acquisition time for : 0.20409607887268066 s\n",
      "meas time : 0.500 ms\n"
     ]
    },
    {
     "name": "stderr",
     "output_type": "stream",
     "text": [
      "100%|██████████| 320/320 [00:00<00:00, 1826.55it/s]\n"
     ]
    },
    {
     "name": "stdout",
     "output_type": "stream",
     "text": [
      "Acquisition time for : 0.20189738273620605 s\n",
      "meas time : 0.500 ms\n"
     ]
    },
    {
     "name": "stderr",
     "output_type": "stream",
     "text": [
      "100%|██████████| 320/320 [00:00<00:00, 1826.25it/s]\n"
     ]
    },
    {
     "name": "stdout",
     "output_type": "stream",
     "text": [
      "Acquisition time for : 0.20049738883972168 s\n",
      "meas time : 0.500 ms\n"
     ]
    },
    {
     "name": "stderr",
     "output_type": "stream",
     "text": [
      "100%|██████████| 320/320 [00:00<00:00, 1836.54it/s]\n"
     ]
    },
    {
     "name": "stdout",
     "output_type": "stream",
     "text": [
      "Acquisition time for : 0.19856524467468262 s\n",
      "meas time : 0.500 ms\n"
     ]
    },
    {
     "name": "stderr",
     "output_type": "stream",
     "text": [
      "100%|██████████| 320/320 [00:00<00:00, 1841.04it/s]\n"
     ]
    },
    {
     "name": "stdout",
     "output_type": "stream",
     "text": [
      "Acquisition time for : 0.20283150672912598 s\n",
      "meas time : 1.000 ms\n"
     ]
    },
    {
     "name": "stderr",
     "output_type": "stream",
     "text": [
      "100%|██████████| 320/320 [00:00<00:00, 954.10it/s]\n"
     ]
    },
    {
     "name": "stdout",
     "output_type": "stream",
     "text": [
      "Acquisition time for : 0.3653743267059326 s\n",
      "meas time : 1.000 ms\n"
     ]
    },
    {
     "name": "stderr",
     "output_type": "stream",
     "text": [
      "100%|██████████| 320/320 [00:00<00:00, 958.05it/s]\n"
     ]
    },
    {
     "name": "stdout",
     "output_type": "stream",
     "text": [
      "Acquisition time for : 0.36199474334716797 s\n",
      "meas time : 1.000 ms\n"
     ]
    },
    {
     "name": "stderr",
     "output_type": "stream",
     "text": [
      "100%|██████████| 320/320 [00:00<00:00, 960.20it/s]\n"
     ]
    },
    {
     "name": "stdout",
     "output_type": "stream",
     "text": [
      "Acquisition time for : 0.36268138885498047 s\n",
      "meas time : 1.000 ms\n"
     ]
    },
    {
     "name": "stderr",
     "output_type": "stream",
     "text": [
      "100%|██████████| 320/320 [00:00<00:00, 958.43it/s]\n"
     ]
    },
    {
     "name": "stdout",
     "output_type": "stream",
     "text": [
      "Acquisition time for : 0.3586387634277344 s\n",
      "meas time : 1.000 ms\n"
     ]
    },
    {
     "name": "stderr",
     "output_type": "stream",
     "text": [
      "100%|██████████| 320/320 [00:00<00:00, 955.48it/s]\n"
     ]
    },
    {
     "name": "stdout",
     "output_type": "stream",
     "text": [
      "Acquisition time for : 0.3702223300933838 s\n",
      "meas time : 1.000 ms\n"
     ]
    },
    {
     "name": "stderr",
     "output_type": "stream",
     "text": [
      "100%|██████████| 320/320 [00:00<00:00, 957.88it/s]\n"
     ]
    },
    {
     "name": "stdout",
     "output_type": "stream",
     "text": [
      "Acquisition time for : 0.3615570068359375 s\n",
      "meas time : 1.000 ms\n"
     ]
    },
    {
     "name": "stderr",
     "output_type": "stream",
     "text": [
      "100%|██████████| 320/320 [00:00<00:00, 955.75it/s]\n"
     ]
    },
    {
     "name": "stdout",
     "output_type": "stream",
     "text": [
      "Acquisition time for : 0.3648681640625 s\n",
      "meas time : 1.000 ms\n"
     ]
    },
    {
     "name": "stderr",
     "output_type": "stream",
     "text": [
      "100%|██████████| 320/320 [00:00<00:00, 953.98it/s]\n"
     ]
    },
    {
     "name": "stdout",
     "output_type": "stream",
     "text": [
      "Acquisition time for : 0.3650345802307129 s\n",
      "meas time : 10.000 ms\n"
     ]
    },
    {
     "name": "stderr",
     "output_type": "stream",
     "text": [
      "100%|██████████| 320/320 [00:03<00:00, 99.19it/s] \n"
     ]
    },
    {
     "name": "stdout",
     "output_type": "stream",
     "text": [
      "Acquisition time for : 3.2628591060638428 s\n",
      "meas time : 10.000 ms\n"
     ]
    },
    {
     "name": "stderr",
     "output_type": "stream",
     "text": [
      "100%|██████████| 320/320 [00:03<00:00, 99.26it/s]\n"
     ]
    },
    {
     "name": "stdout",
     "output_type": "stream",
     "text": [
      "Acquisition time for : 3.2585790157318115 s\n",
      "meas time : 10.000 ms\n"
     ]
    },
    {
     "name": "stderr",
     "output_type": "stream",
     "text": [
      "100%|██████████| 320/320 [00:03<00:00, 99.28it/s]\n"
     ]
    },
    {
     "name": "stdout",
     "output_type": "stream",
     "text": [
      "Acquisition time for : 3.260531187057495 s\n",
      "meas time : 10.000 ms\n"
     ]
    },
    {
     "name": "stderr",
     "output_type": "stream",
     "text": [
      "100%|██████████| 320/320 [00:03<00:00, 99.19it/s] \n"
     ]
    },
    {
     "name": "stdout",
     "output_type": "stream",
     "text": [
      "Acquisition time for : 3.2594146728515625 s\n",
      "meas time : 10.000 ms\n"
     ]
    },
    {
     "name": "stderr",
     "output_type": "stream",
     "text": [
      "100%|██████████| 320/320 [00:03<00:00, 99.31it/s]\n"
     ]
    },
    {
     "name": "stdout",
     "output_type": "stream",
     "text": [
      "Acquisition time for : 3.2643959522247314 s\n",
      "meas time : 10.000 ms\n"
     ]
    },
    {
     "name": "stderr",
     "output_type": "stream",
     "text": [
      "100%|██████████| 320/320 [00:03<00:00, 99.30it/s]\n"
     ]
    },
    {
     "name": "stdout",
     "output_type": "stream",
     "text": [
      "Acquisition time for : 3.2557382583618164 s\n",
      "meas time : 10.000 ms\n"
     ]
    },
    {
     "name": "stderr",
     "output_type": "stream",
     "text": [
      "100%|██████████| 320/320 [00:03<00:00, 99.27it/s]\n"
     ]
    },
    {
     "name": "stdout",
     "output_type": "stream",
     "text": [
      "Acquisition time for : 3.2588088512420654 s\n",
      "meas time : 10.000 ms\n"
     ]
    },
    {
     "name": "stderr",
     "output_type": "stream",
     "text": [
      "100%|██████████| 320/320 [00:03<00:00, 99.32it/s]\n"
     ]
    },
    {
     "name": "stdout",
     "output_type": "stream",
     "text": [
      "Acquisition time for : 3.259748697280884 s\n",
      "meas time : 100.000 ms\n"
     ]
    },
    {
     "name": "stderr",
     "output_type": "stream",
     "text": [
      "100%|██████████| 320/320 [00:32<00:00,  9.97it/s]\n"
     ]
    },
    {
     "name": "stdout",
     "output_type": "stream",
     "text": [
      "Acquisition time for : 32.21287655830383 s\n",
      "meas time : 100.000 ms\n"
     ]
    },
    {
     "name": "stderr",
     "output_type": "stream",
     "text": [
      "100%|██████████| 320/320 [00:32<00:00,  9.97it/s]\n"
     ]
    },
    {
     "name": "stdout",
     "output_type": "stream",
     "text": [
      "Acquisition time for : 32.19639563560486 s\n",
      "meas time : 100.000 ms\n"
     ]
    },
    {
     "name": "stderr",
     "output_type": "stream",
     "text": [
      "100%|██████████| 320/320 [00:32<00:00,  9.97it/s]\n"
     ]
    },
    {
     "name": "stdout",
     "output_type": "stream",
     "text": [
      "Acquisition time for : 32.2083899974823 s\n",
      "meas time : 100.000 ms\n"
     ]
    },
    {
     "name": "stderr",
     "output_type": "stream",
     "text": [
      "100%|██████████| 320/320 [00:32<00:00,  9.97it/s]\n"
     ]
    },
    {
     "name": "stdout",
     "output_type": "stream",
     "text": [
      "Acquisition time for : 32.21093034744263 s\n",
      "meas time : 100.000 ms\n"
     ]
    },
    {
     "name": "stderr",
     "output_type": "stream",
     "text": [
      "100%|██████████| 320/320 [00:32<00:00,  9.97it/s]\n"
     ]
    },
    {
     "name": "stdout",
     "output_type": "stream",
     "text": [
      "Acquisition time for : 32.24360513687134 s\n",
      "meas time : 100.000 ms\n"
     ]
    },
    {
     "name": "stderr",
     "output_type": "stream",
     "text": [
      "100%|██████████| 320/320 [00:32<00:00,  9.97it/s]\n"
     ]
    },
    {
     "name": "stdout",
     "output_type": "stream",
     "text": [
      "Acquisition time for : 32.64145851135254 s\n",
      "meas time : 100.000 ms\n"
     ]
    },
    {
     "name": "stderr",
     "output_type": "stream",
     "text": [
      "100%|██████████| 320/320 [00:32<00:00,  9.97it/s]\n"
     ]
    },
    {
     "name": "stdout",
     "output_type": "stream",
     "text": [
      "Acquisition time for : 32.19435214996338 s\n",
      "meas time : 100.000 ms\n"
     ]
    },
    {
     "name": "stderr",
     "output_type": "stream",
     "text": [
      "100%|██████████| 320/320 [00:32<00:00,  9.97it/s]\n"
     ]
    },
    {
     "name": "stdout",
     "output_type": "stream",
     "text": [
      "Acquisition time for : 32.20207095146179 s\n"
     ]
    }
   ],
   "source": [
    "from scipy import stats\n",
    "import json\n",
    "\n",
    "# Qick version : 0.2.357\n",
    "(soc, soccfg) = make_proxy(\"192.168.2.99\")\n",
    "# print(soccfg)\n",
    "\n",
    "att1 = 23\n",
    "att2 = 30\n",
    "# Set DAC Channel 0 attenuation 10 dB and 10 dB, and turn on DAC channel\n",
    "soc.rfb_set_gen_rf(0,att1,att2)\n",
    "# Set DAC Channel filter as bypass mode\n",
    "soc.rfb_set_gen_filter(0,fc = 2.5, ftype = \"lowpass\")\n",
    "\n",
    "# Set ADC Channel attenuation 31 dB, and turn on ADC channel\n",
    "soc.rfb_set_ro_rf(0,31)\n",
    "# Set ADC Channel filter as bypass mode\n",
    "soc.rfb_set_ro_filter(0, fc = 2.5, ftype = \"lowpass\")\n",
    "\n",
    "gain = [1, int(10 ** (1/2)), 10, int(10 ** (3/2)), 100, int(10 ** (5/2)), 1000,  int(10 ** (7/2))]\n",
    "meas_numbers = [1, 4, 8, 80, 800]\n",
    "meas_power = {}\n",
    "meas_phase = {}\n",
    "meas_unwrap_phase = {}\n",
    "meas_unwrap_sub_phase = {}\n",
    "for meas_number in meas_numbers:\n",
    "    for x in gain:\n",
    "        input_pwr = 20 * np.log10(rf_gain) - 77 - att1 - att2\n",
    "        rf_gain = x\n",
    "        start_time = time.time()\n",
    "        cfg = {\n",
    "            # Experiment Setup\n",
    "            \"reps\" : 1,\n",
    "            \"expts\" : 320,\n",
    "            \"start\" : 500,\n",
    "            \"step\" : 0.25,\n",
    "            \"gain\" : rf_gain,\n",
    "            # Parameter Setup\n",
    "            \"pulse_time\" : 50000,\n",
    "            \"number_of_pulse\" : meas_number,\n",
    "        }\n",
    "        if meas_number == 1:\n",
    "            cfg[\"pulse_time\"] = 20000\n",
    "        meas_time = cfg[\"pulse_time\"] * cfg[\"number_of_pulse\"] * 2.5 / 1e6\n",
    "        print(\"meas time : {:.3f} ms\".format(meas_time))\n",
    "        cfg[\"gain\"] = x\n",
    "        prog = LongDurationPulseExample(\n",
    "            soccfg,\n",
    "            cfg,\n",
    "        )\n",
    "        expts, avgi, avgq  = prog.acquire(soc = soc, progress = True, start_src = \"internal\")\n",
    "        end_time = time.time()\n",
    "        avgi = np.array(avgi[0]).mean(axis = 0)\n",
    "        avgq = np.array(avgq[0]).mean(axis = 0)\n",
    "        meas_power[input_pwr] = 20 * np.log10(np.sqrt(avgi * avgi + avgq * avgq))\n",
    "        meas_phase[input_pwr] = np.angle(avgi + 1j * avgq)\n",
    "\n",
    "        print(f\"Acquisition time for : {end_time - start_time} s\")\n",
    "        plt.figure()\n",
    "        plt.ylabel(\"relative mag [dB]\")\n",
    "        plt.xlabel(\"freq [MHz]\")\n",
    "        plt.plot(expts, meas_power[input_pwr], label = str(x))\n",
    "        plt.savefig(\"meas time {:.3f} ms_{:.1f} dBm_pwr.png\".format(meas_time, input_pwr))\n",
    "        plt.figure()\n",
    "        plt.ylabel(\"phase [rad]\")\n",
    "        plt.xlabel(\"freq [MHz]\")\n",
    "        plt.plot(expts, meas_phase[input_pwr])\n",
    "        plt.savefig(\"meas time {:.3f} ms_{:.1f} dBm_phase.png\".format(meas_time, input_pwr))\n",
    "        # plt.show()\n",
    "\n",
    "        plt.figure()\n",
    "        plt.ylabel(\"unwrapped ang [rad]\")\n",
    "        plt.xlabel(\"freq [MHz]\")\n",
    "        plt.plot(expts, np.unwrap(list(meas_phase[input_pwr])))\n",
    "        plt.savefig(\"meas time {:.3f} ms_{:.1f} dBm_unwrapped ang.png\".format(meas_time, input_pwr))\n",
    "\n",
    "        meas_phase_uw = np.unwrap(list(meas_phase[input_pwr]))\n",
    "        meas_unwrap_phase[input_pwr] = meas_phase_uw\n",
    "        slope, intercept, r_value, p_value, std_err = stats.linregress(expts[:200], meas_phase_uw[:200])\n",
    "        meas_phase_uw = meas_phase_uw - expts * slope - intercept\n",
    "        plt.figure()\n",
    "        plt.plot(expts, meas_phase_uw)\n",
    "        plt.ylabel(\"unwrapped ang with sub [rad]\")\n",
    "        plt.xlabel(\"freq [MHz]\")\n",
    "        plt.savefig(\"meas time {:.3f} ms_{:.1f} dBm_unwrapped unwrapped ang with sub.png\".format(meas_time, input_pwr))\n",
    "        # plt.show()\n",
    "        meas_unwrap_sub_phase[input_pwr] = meas_phase_uw\n",
    "\n"
   ]
  },
  {
   "cell_type": "code",
   "execution_count": 499,
   "id": "a1c296de",
   "metadata": {},
   "outputs": [],
   "source": [
    "save_data = {\n",
    "    \"freqs\" : list(expts),\n",
    "    \"pwr\" : {key : list(val) for key, val in meas_power.items()},\n",
    "    \"phase\" : {key : list(val) for key, val in meas_phase.items()},\n",
    "    \"meas_unwrap_phase\" : {key : list(val) for key, val in meas_unwrap_phase.items()},\n",
    "    \"meas_unwrap_sub_phase\" : {key : list(val) for key, val in meas_unwrap_sub_phase.items()},\n",
    "}\n",
    "with open(\"Meas_20251003.json\", \"w\", encoding = \"utf-8\") as f:\n",
    "    json.dump(save_data, f, indent = 4)\n",
    "    f.close()"
   ]
  },
  {
   "cell_type": "code",
   "execution_count": 7,
   "id": "d4010e13",
   "metadata": {},
   "outputs": [],
   "source": [
    "%matplotlib qt"
   ]
  },
  {
   "cell_type": "code",
   "execution_count": 28,
   "id": "a86db077",
   "metadata": {},
   "outputs": [
    {
     "data": {
      "image/png": "[encoded data removed]",
      "text/plain": [
       "<Figure size 640x480 with 1 Axes>"
      ]
     },
     "metadata": {},
     "output_type": "display_data"
    }
   ],
   "source": [
    "\n",
    "plt.figure()\n",
    "for x in gain:\n",
    "    plt.plot(expts, meas_power[x], label = str(x))\n",
    "plt.legend()\n",
    "plt.ylim([0.01e6, 0.2e6])\n",
    "plt.show()"
   ]
  },
  {
   "cell_type": "code",
   "execution_count": 34,
   "id": "c6a54a68",
   "metadata": {},
   "outputs": [
    {
     "name": "stdout",
     "output_type": "stream",
     "text": [
      "meas time : 1.137 ms\n"
     ]
    },
    {
     "name": "stderr",
     "output_type": "stream",
     "text": [
      "  0%|          | 0/250 [00:00<?, ?it/s]"
     ]
    },
    {
     "name": "stderr",
     "output_type": "stream",
     "text": [
      "100%|██████████| 250/250 [00:00<00:00, 881.10it/s]\n"
     ]
    },
    {
     "name": "stdout",
     "output_type": "stream",
     "text": [
      "Acquisition time for : 0.35033631324768066 s\n",
      "meas time : 0.650 ms\n"
     ]
    },
    {
     "name": "stderr",
     "output_type": "stream",
     "text": [
      "100%|██████████| 250/250 [00:00<00:00, 1508.80it/s]\n"
     ]
    },
    {
     "name": "stdout",
     "output_type": "stream",
     "text": [
      "Acquisition time for : 0.24384832382202148 s\n",
      "meas time : 0.100 ms\n"
     ]
    },
    {
     "name": "stderr",
     "output_type": "stream",
     "text": [
      "100%|██████████| 250/250 [00:00<00:00, 6925.36it/s]"
     ]
    },
    {
     "name": "stdout",
     "output_type": "stream",
     "text": [
      "Acquisition time for : 0.1207575798034668 s\n"
     ]
    },
    {
     "name": "stderr",
     "output_type": "stream",
     "text": [
      "\n"
     ]
    },
    {
     "name": "stdout",
     "output_type": "stream",
     "text": [
      "meas time : 0.050 ms\n"
     ]
    },
    {
     "name": "stderr",
     "output_type": "stream",
     "text": [
      "100%|██████████| 250/250 [00:00<00:00, 13451.39it/s]"
     ]
    },
    {
     "name": "stdout",
     "output_type": "stream",
     "text": [
      "Acquisition time for : 0.0806577205657959 s\n"
     ]
    },
    {
     "name": "stderr",
     "output_type": "stream",
     "text": [
      "\n"
     ]
    }
   ],
   "source": [
    "\n",
    "t_exps = [1e-3, 0.5e-3, 100e-6, 50e-6]\n",
    "for idx, t_exp in enumerate(t_exps):\n",
    "    start_time = time.time()\n",
    "    cfg = {\n",
    "        # Experiment Setup\n",
    "        \"reps\" : 1,\n",
    "        \"expts\" : 250,\n",
    "        \"start\" : 500,\n",
    "        \"step\" : 0.32,\n",
    "        \"gain\" : 2000,\n",
    "        # Parameter Setup\n",
    "        \"pulse_time\" : 65000,\n",
    "        \"number_of_pulse\" : 1,\n",
    "    }\n",
    "    cfg[\"number_of_pulse\"] = int(t_exp * 1e9 / (2.5*cfg[\"pulse_time\"])) + 1\n",
    "    if cfg[\"number_of_pulse\"] == 1:\n",
    "        cfg[\"pulse_time\"] = int(t_exp * 1e9 / 2.5)\n",
    "    print(\"meas time : {:.3f} ms\".format(cfg[\"pulse_time\"] * cfg[\"number_of_pulse\"] * 2.5 / 1e6 ))\n",
    "    # print(prog)\n",
    "    plt.figure()\n",
    "    gain = [1000]\n",
    "    meas_power = {}\n",
    "    meas_phase = {}\n",
    "    for x in (gain):\n",
    "        cfg[\"gain\"] = x\n",
    "        prog = LongDurationPulseExample(\n",
    "            soccfg,\n",
    "            cfg,\n",
    "        )\n",
    "        expts, avgi, avgq  = prog.acquire(soc = soc, progress = True, start_src = \"internal\")\n",
    "        end_time = time.time()\n",
    "        avgi = np.array(avgi[0]).mean(axis = 0)\n",
    "        avgq = np.array(avgq[0]).mean(axis = 0)\n",
    "        meas_power[x] = np.sqrt(avgi * avgi + avgq * avgq)\n",
    "        meas_phase[x] = np.angle(avgi + 1j * avgq)\n",
    "\n",
    "        print(f\"Acquisition time for : {end_time - start_time} s\")\n",
    "        plt.plot(expts, meas_power[x], label = str(x))\n",
    "    plt.legend()\n",
    "    plt.savefig(f\"{idx}_{t_exp}_volt.png\")\n",
    "    plt.figure()\n",
    "    for x in gain:\n",
    "        plt.plot(expts, meas_phase[x], label = str(x))\n",
    "    plt.legend()\n",
    "    plt.savefig(f\"{idx}_{t_exp}_phase.png\")"
   ]
  },
  {
   "cell_type": "code",
   "execution_count": 38,
   "id": "9676306f",
   "metadata": {},
   "outputs": [
    {
     "name": "stdout",
     "output_type": "stream",
     "text": [
      "meas time : 1.625 ms\n"
     ]
    },
    {
     "name": "stderr",
     "output_type": "stream",
     "text": [
      "100%|██████████| 250/250 [00:00<00:00, 610.55it/s]\n"
     ]
    },
    {
     "name": "stdout",
     "output_type": "stream",
     "text": [
      "Acquisition time for : 0.4938530921936035 s\n"
     ]
    },
    {
     "name": "stderr",
     "output_type": "stream",
     "text": [
      "100%|██████████| 250/250 [00:00<00:00, 602.51it/s]\n"
     ]
    },
    {
     "name": "stdout",
     "output_type": "stream",
     "text": [
      "Acquisition time for : 1.324974775314331 s\n"
     ]
    },
    {
     "name": "stderr",
     "output_type": "stream",
     "text": [
      "100%|██████████| 250/250 [00:00<00:00, 613.22it/s]\n"
     ]
    },
    {
     "name": "stdout",
     "output_type": "stream",
     "text": [
      "Acquisition time for : 2.068647623062134 s\n"
     ]
    },
    {
     "name": "stderr",
     "output_type": "stream",
     "text": [
      "100%|██████████| 250/250 [00:00<00:00, 607.59it/s]\n"
     ]
    },
    {
     "name": "stdout",
     "output_type": "stream",
     "text": [
      "Acquisition time for : 2.8384108543395996 s\n"
     ]
    }
   ],
   "source": [
    "\n",
    "gain = [10, 100, 1000, 10000]\n",
    "start_time = time.time()\n",
    "cfg = {\n",
    "    # Experiment Setup\n",
    "    \"reps\" : 1,\n",
    "    \"expts\" : 250,\n",
    "    \"start\" : 500,\n",
    "    \"step\" : 0.32,\n",
    "    \"gain\" : 2000,\n",
    "    # Parameter Setup\n",
    "    \"pulse_time\" : 65000,\n",
    "    \"number_of_pulse\" : 10,\n",
    "}\n",
    "print(\"meas time : {:.3f} ms\".format(cfg[\"pulse_time\"] * cfg[\"number_of_pulse\"] * 2.5 / 1e6 ))\n",
    "# print(prog)\n",
    "plt.figure()\n",
    "meas_power = {}\n",
    "meas_phase = {}\n",
    "for x in (gain):\n",
    "    cfg[\"gain\"] = x\n",
    "    prog = LongDurationPulseExample(\n",
    "        soccfg,\n",
    "        cfg,\n",
    "    )\n",
    "    expts, avgi, avgq  = prog.acquire(soc = soc, progress = True, start_src = \"internal\")\n",
    "    end_time = time.time()\n",
    "    avgi = np.array(avgi[0]).mean(axis = 0)\n",
    "    avgq = np.array(avgq[0]).mean(axis = 0)\n",
    "    meas_power[x] = np.sqrt(avgi * avgi + avgq * avgq)\n",
    "    meas_phase[x] = np.angle(avgi + 1j * avgq)\n",
    "\n",
    "    print(f\"Acquisition time for : {end_time - start_time} s\")\n",
    "    plt.plot(expts, meas_power[x], label = str(x))\n",
    "    plt.legend()\n",
    "    plt.savefig(f\"gain_{x}_volt.png\")\n",
    "    plt.figure()\n",
    "    plt.plot(expts, meas_phase[x], label = str(x))\n",
    "    plt.legend()\n",
    "    plt.savefig(f\"gain_{x}_phase.png\")"
   ]
  },
  {
   "cell_type": "code",
   "execution_count": 323,
   "id": "e7229217",
   "metadata": {},
   "outputs": [
    {
     "name": "stdout",
     "output_type": "stream",
     "text": [
      "meas time : 1.625 ms\n",
      "Acquisition time for : 27.3564875125885 s\n"
     ]
    }
   ],
   "source": [
    "\n",
    "start_time = time.time()\n",
    "cfg = {\n",
    "    # Experiment Setup\n",
    "    \"reps\" : 1,\n",
    "    \"expts\" : 1,\n",
    "    \"start\" : 500,\n",
    "    \"step\" : 0.32,\n",
    "    \"gain\" : 1000,\n",
    "    # Parameter Setup\n",
    "    \"pulse_time\" : 65000,\n",
    "    \"number_of_pulse\" : 10,\n",
    "}\n",
    "print(\"meas time : {:.3f} ms\".format(cfg[\"pulse_time\"] * cfg[\"number_of_pulse\"] * 2.5 / 1e6 ))\n",
    "# print(prog)\n",
    "plt.figure()\n",
    "\n",
    "meas_power = []\n",
    "meas_phase = []\n",
    "\n",
    "freqs = np.linspace(500, 580, 1000)\n",
    "for x in (freqs):\n",
    "    prog = LongDurationPulseExample(\n",
    "        soccfg,\n",
    "        cfg,\n",
    "    )\n",
    "    cfg[\"start\"] = x\n",
    "    expts, avgi, avgq  = prog.acquire(soc = soc, progress = False, start_src = \"internal\")\n",
    "    end_time = time.time()\n",
    "    avgi = np.array(avgi[0]).mean(axis = 0)\n",
    "    avgq = np.array(avgq[0]).mean(axis = 0)\n",
    "    meas_power.append(np.sqrt(avgi * avgi + avgq * avgq)[0])\n",
    "    meas_phase.append(np.angle(avgi + 1j * avgq)[0])\n",
    "\n",
    "print(f\"Acquisition time for : {end_time - start_time} s\")\n",
    "plt.plot(freqs, meas_power)\n",
    "plt.savefig(f\"soft_volt.png\")\n",
    "plt.figure()\n",
    "plt.plot(freqs, meas_phase)\n",
    "plt.savefig(f\"soft_phase.png\")"
   ]
  },
  {
   "cell_type": "code",
   "execution_count": null,
   "id": "254ab2e8",
   "metadata": {},
   "outputs": [],
   "source": [
    "plt.figure()\n",
    "plt.plot(freqs, meas_power)\n",
    "plt.figure()\n",
    "plt.plot(freqs, meas_phase)"
   ]
  },
  {
   "cell_type": "code",
   "execution_count": 63,
   "id": "5c953d8c",
   "metadata": {},
   "outputs": [],
   "source": [
    "with open(\"soft.txt\", \"w\", encoding = \"utf-8\") as f:\n",
    "    f.write(str(meas_power))\n",
    "    f.write(\"\\n\")\n",
    "    f.write(str(meas_phase))"
   ]
  },
  {
   "cell_type": "code",
   "execution_count": 325,
   "id": "736fb75a",
   "metadata": {},
   "outputs": [],
   "source": [
    "from scipy import stats\n",
    "\n",
    "meas_phase_uw = np.unwrap(meas_phase)\n",
    "slope, intercept, r_value, p_value, std_err = stats.linregress(freqs[:200], meas_phase_uw[:200])\n",
    "meas_phase_uw = meas_phase_uw - freqs * slope - intercept\n",
    "plt.plot(freqs, meas_phase_uw)\n",
    "plt.show()\n",
    "\n",
    "with open(\"soft_bg_sub.txt\", \"w\", encoding = \"utf-8\") as f:\n",
    "    f.write(str(meas_phase_uw))"
   ]
  },
  {
   "cell_type": "code",
   "execution_count": 407,
   "id": "44f7ebea",
   "metadata": {},
   "outputs": [
    {
     "name": "stdout",
     "output_type": "stream",
     "text": [
      "\n",
      "// Program\n",
      "\n",
      "        regwi 0, $22, 335544321;                //freq = 335544321\n",
      "        regwi 0, $23, 0;                        //phase = 0\n",
      "        regwi 0, $25, 1000;                     //gain = 1000\n",
      "        regwi 0, $26, 852068;                   //phrst| stdysel | mode | | outsel = 0b01101 | length = 100 \n",
      "        regwi 4, $22, 894784856;                //freq = 894784856\n",
      "        regwi 4, $26, 262160;                   //mode | outsel = 0b00100 | length = 16 \n",
      "        synci 100000;\n",
      "        regwi 0, $13, 0;\n",
      "        regwi 0, $14, 319;\n",
      "LOOP_I: regwi 0, $15, 0;\n",
      "LOOP_J: mathi 0, $6, $22 + 0;\n",
      "        mathi 4, $6, $22 + 0;\n",
      "        regwi 0, $22, 335544321;                //freq = 335544321\n",
      "        regwi 0, $23, 0;                        //phase = 0\n",
      "        regwi 0, $25, 1000;                     //gain = 1000\n",
      "        regwi 0, $26, 852068;                   //phrst| stdysel | mode | | outsel = 0b01101 | length = 100 \n",
      "        regwi 4, $22, 894784856;                //freq = 894784856\n",
      "        regwi 4, $26, 262160;                   //mode | outsel = 0b00100 | length = 16 \n",
      "        mathi 0, $22, $6 + 0;\n",
      "        regwi 0, $27, 100;                      //t = 100\n",
      "        set 0, 0, $22, $23, $0, $25, $26, $27;  //ch = 0, pulse @t = $27\n",
      "        mathi 4, $22, $6 + 0;\n",
      "        regwi 4, $27, 100;                      //t = 100\n",
      "        set 4, 4, $22, $0, $26, $0, $26, $27;   //ch = 0, pulse @t = $27\n",
      "        regwi 0, $16, 1;                        //out = 0b0000000000000001\n",
      "        seti 7, 0, $16, 150;                    //ch =0 out = $16 @t = 0\n",
      "        seti 7, 0, $0, 160;                     //ch =0 out = 0 @t = 0\n",
      "        synci 50136;\n",
      "        regwi 0, $22, 335544321;                //freq = 335544321\n",
      "        regwi 0, $23, 0;                        //phase = 0\n",
      "        regwi 0, $25, 0;                        //gain = 0\n",
      "        regwi 0, $26, 852068;                   //phrst| stdysel | mode | | outsel = 0b01101 | length = 100 \n",
      "        mathi 0, $22, $6 + 0;\n",
      "        regwi 0, $27, 100;                      //t = 100\n",
      "        set 0, 0, $22, $23, $0, $25, $26, $27;  //ch = 0, pulse @t = $27\n",
      "        synci 10200;\n",
      "        waiti 0, 0;\n",
      "        mathi 0, $13, $13 + 1;\n",
      "        memwi 0, $13, 1;\n",
      "        loopnz 0, $15, @LOOP_J;\n",
      "        mathi 4, $22, $22 + 16;\n",
      "        mathi 0, $22, $22 + 6;\n",
      "        synci 1000;\n",
      "        loopnz 0, $14, @LOOP_I;\n",
      "        end ;\n"
     ]
    }
   ],
   "source": [
    "print(prog)"
   ]
  },
  {
   "cell_type": "code",
   "execution_count": null,
   "id": "7bc21f21",
   "metadata": {},
   "outputs": [],
   "source": []
  }
 ],
 "metadata": {
  "kernelspec": {
   "display_name": "Python 3",
   "language": "python",
   "name": "python3"
  },
  "language_info": {
   "codemirror_mode": {
    "name": "ipython",
    "version": 3
   },
   "file_extension": ".py",
   "mimetype": "text/x-python",
   "name": "python",
   "nbconvert_exporter": "python",
   "pygments_lexer": "ipython3",
   "version": "3.7.9"
  }
 },
 "nbformat": 4,
 "nbformat_minor": 5
}
