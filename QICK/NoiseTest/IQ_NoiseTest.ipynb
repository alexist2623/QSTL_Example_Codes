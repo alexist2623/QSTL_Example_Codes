{
 "cells": [
  {
   "cell_type": "code",
   "execution_count": 64,
   "id": "14b9c4e4",
   "metadata": {},
   "outputs": [],
   "source": [
    "\"\"\"\n",
    "Qick based qubit measurement example (maybe LC tank?)\n",
    "\n",
    "RF Out     ____~~~~~~~~~~~~~~~~~~~~. . . .~~~~~~~~~~~~~~~~~~~~___\n",
    "Digitizer  ____|‾‾‾‾‾|_|‾‾‾‾‾|_|‾‾‾. . . .‾‾‾|_|‾‾‾‾‾|_|‾‾‾‾‾|___\n",
    "Measured Data   IQ[0]   IQ[1]      . . . .      IQ[78]  IQ[79]\n",
    "\"\"\"\n",
    "import numpy as np\n",
    "import math\n",
    "import matplotlib.pyplot as plt\n",
    "import time\n",
    "\n",
    "from qick import *\n",
    "from qick.averager_program import QickSweep\n",
    "from qick.pyro import make_proxy\n",
    "\n",
    "class LongDurationPulseExample(NDAveragerProgram):\n",
    "    def initialize(self):\n",
    "        # set the nyquist zone\n",
    "        cfg = self.cfg\n",
    "        freq_rf     = cfg[\"freq_rf\"]\n",
    "        # Declare RF generation channel\n",
    "        self.declare_gen(\n",
    "            ch      = 0,        # Channel\n",
    "            nqz     = 1         # Nyquist Zone\n",
    "        )\n",
    "\n",
    "        # Declare RF input channel\n",
    "        self.declare_readout(\n",
    "            ch      = 0,        # Channel\n",
    "            length  = int(cfg[\"pulse_time\"] * 3/4) - 10,       # Readout length\n",
    "        )\n",
    "        # Convert RF frequency to DAC DDS register value\n",
    "        self.freq_dac = self.freq2reg(\n",
    "            f       = freq_rf,  # Frequency\n",
    "            gen_ch  = 0,        # Generator channel\n",
    "            ro_ch   = 0         # Readout channel for round up\n",
    "        )\n",
    "        # Convert RF frequency to ADC DDS register value\n",
    "        freq_adc    = self.freq2reg_adc(\n",
    "            f       = freq_rf,  # Frequency\n",
    "            ro_ch   = 0,        # Readout channel\n",
    "            gen_ch  = 0         # Generator channel for round up\n",
    "        )\n",
    "        # Set demodulator DDS\n",
    "        self.set_readout_registers(\n",
    "            ch      = 0,        # Readout channel\n",
    "            freq    = freq_adc, # Readout DDS frequency\n",
    "            length  = 16, # Readout DDS multiplication length\n",
    "            phrst   = 0,        # Readout DDS phase reset\n",
    "        )\n",
    "        self.synci(100000)\n",
    "\n",
    "    def body(self):\n",
    "        cfg = self.cfg\n",
    "        self.readout(\n",
    "            ch      = 0,        # Readout channel\n",
    "            t       = 100       # Readout DDS will start multiplication\n",
    "                                # @ sync_t + 100\n",
    "        )\n",
    "        self.setup_and_pulse(\n",
    "            ch      = 0,        # Generator channel\n",
    "            style   = \"const\",    # Output is envelope * gain * DDS output\n",
    "            freq    = self.freq_dac, # Generator DDS frequency\n",
    "            phase   = self.deg2reg(0, gen_ch = 0),        # Generator DDS phase\n",
    "            gain    = cfg[\"gain\"], # Generator amplitude\n",
    "            phrst   = 0,        # Generator DDS phase reset\n",
    "            length  = 100,       # Total length of envelope.\n",
    "            mode    = \"periodic\", # Set pulse mode to periodic\n",
    "            t       = 100\n",
    "        )\n",
    "        self.sync_all(100)\n",
    "        for i in range(cfg[\"number_of_pulse\"]):\n",
    "            self.trigger(\n",
    "                adcs    = [0],      # Readout channels\n",
    "                adc_trig_offset = 150 + i * cfg[\"pulse_time\"] # Readout will capture the data @ sync_t + 50\n",
    "            )\n",
    "\n",
    "        self.sync_all(100)\n",
    "        self.setup_and_pulse(\n",
    "            ch      = 0,        # Generator channel\n",
    "            style   = \"const\",  # Output is envelope * gain * DDS output\n",
    "            freq    = self.freq_dac, # Generator DDS frequency\n",
    "            phase   = self.deg2reg(0, gen_ch = 0),    # Generator DDS phase\n",
    "            gain    = 0,        # Generator amplitude\n",
    "            phrst   = 0,        # Generator DDS phase reset\n",
    "            length  = 100,      # Total length of envelope.\n",
    "            mode    = \"oneshot\", # Set pulse mode to periodic\n",
    "            t       = 100 + cfg[\"pulse_time\"]\n",
    "        )\n",
    "        self.sync_all(1000)\n",
    "        self.wait_all()\n"
   ]
  },
  {
   "cell_type": "code",
   "execution_count": 70,
   "id": "7f720e76",
   "metadata": {},
   "outputs": [
    {
     "name": "stdout",
     "output_type": "stream",
     "text": [
      "Pyro.NameServer PYRO:Pyro.NameServer@0.0.0.0:8888\n",
      "myqick PYRO:obj_38f24800b8e744bfb6326c66ea9ca7fa@192.168.2.99:38083\n",
      "meas time : 0.975 ms\n"
     ]
    },
    {
     "name": "stderr",
     "output_type": "stream",
     "text": [
      "100%|██████████| 1/1 [00:00<00:00, 180.45it/s]"
     ]
    },
    {
     "name": "stdout",
     "output_type": "stream",
     "text": [
      "Acquisition time for : 0.0565643310546875 s\n"
     ]
    },
    {
     "name": "stderr",
     "output_type": "stream",
     "text": [
      "\n"
     ]
    },
    {
     "data": {
      "image/png": "[encoded data removed]",
      "text/plain": [
       "<Figure size 640x480 with 1 Axes>"
      ]
     },
     "metadata": {},
     "output_type": "display_data"
    },
    {
     "name": "stdout",
     "output_type": "stream",
     "text": [
      "31.408032197059697\n",
      "34.78666646037137\n"
     ]
    }
   ],
   "source": [
    "\n",
    "# Qick version : 0.2.357\n",
    "(soc, soccfg) = make_proxy(\"192.168.2.99\")\n",
    "# print(soccfg)\n",
    "\n",
    "# Set DAC Channel 0 attenuation 10 dB and 10 dB, and turn on DAC channel\n",
    "soc.rfb_set_gen_rf(0,0,0)\n",
    "# Set DAC Channel filter as bypass mode\n",
    "soc.rfb_set_gen_filter(0,fc = 2.5, ftype = \"lowpass\")\n",
    "\n",
    "# Set ADC Channel attenuation 31 dB, and turn on ADC channel\n",
    "soc.rfb_set_ro_rf(0,31)\n",
    "# Set ADC Channel filter as bypass mode\n",
    "soc.rfb_set_ro_filter(0, fc = 2.5, ftype = \"lowpass\")\n",
    "\n",
    "start_time = time.time()\n",
    "# P_out = 19.7 * log10(gain) -77.0 (R = 0.999868) @ 540 MHz\n",
    "cfg = {\n",
    "    # Experiment Setup\n",
    "    \"reps\" : 1,\n",
    "    \"expts\" : 800,\n",
    "    \"freq_rf\" : 540,\n",
    "    \"gain\" : 200,\n",
    "    # Parameter Setup\n",
    "    \"pulse_time\" : 650,\n",
    "    \"number_of_pulse\" : 600,\n",
    "}\n",
    "print(\"meas time : {:.3f} ms\".format(cfg[\"pulse_time\"] * cfg[\"number_of_pulse\"] * 2.5 / 1e6 ))\n",
    "# print(prog)\n",
    "plt.figure()\n",
    "\n",
    "cfg[\"gain\"] = 100\n",
    "prog = LongDurationPulseExample(\n",
    "    soccfg,\n",
    "    cfg,\n",
    ")\n",
    "expts, avgi, avgq  = prog.acquire(soc = soc, progress = True, start_src = \"internal\")\n",
    "end_time = time.time()\n",
    "# avgi = np.array(avgi[0]).mean(axis = 0)\n",
    "# avgq = np.array(avgq[0]).mean(axis = 0)\n",
    "\n",
    "print(f\"Acquisition time for : {end_time - start_time} s\")\n",
    "plt.scatter(avgq, avgi)\n",
    "plt.xlim([-3000 , 3000])\n",
    "plt.ylim([-3000 , 3000])\n",
    "plt.show()\n",
    "print(np.array(avgi).std())\n",
    "print(np.array(avgq).std())"
   ]
  },
  {
   "cell_type": "code",
   "execution_count": 71,
   "id": "8b17c28e",
   "metadata": {},
   "outputs": [
    {
     "name": "stdout",
     "output_type": "stream",
     "text": [
      "Pyro.NameServer PYRO:Pyro.NameServer@0.0.0.0:8888\n",
      "myqick PYRO:obj_38f24800b8e744bfb6326c66ea9ca7fa@192.168.2.99:38083\n",
      "meas time : 0.975 ms\n"
     ]
    },
    {
     "name": "stderr",
     "output_type": "stream",
     "text": [
      "100%|██████████| 1/1 [00:00<00:00, 109.49it/s]"
     ]
    },
    {
     "name": "stdout",
     "output_type": "stream",
     "text": [
      "Acquisition time for : 0.04807758331298828 s\n"
     ]
    },
    {
     "name": "stderr",
     "output_type": "stream",
     "text": [
      "\n"
     ]
    },
    {
     "data": {
      "image/png": "[encoded data removed]",
      "text/plain": [
       "<Figure size 640x480 with 1 Axes>"
      ]
     },
     "metadata": {},
     "output_type": "display_data"
    },
    {
     "name": "stdout",
     "output_type": "stream",
     "text": [
      "8.996086711045086\n",
      "12.783006751543617\n"
     ]
    }
   ],
   "source": [
    "\n",
    "# Qick version : 0.2.357\n",
    "(soc, soccfg) = make_proxy(\"192.168.2.99\")\n",
    "# print(soccfg)\n",
    "\n",
    "# Set DAC Channel 0 attenuation 10 dB and 10 dB, and turn on DAC channel\n",
    "soc.rfb_set_gen_rf(0,0,20)\n",
    "# Set DAC Channel filter as bypass mode\n",
    "soc.rfb_set_gen_filter(0,fc = 2.5, ftype = \"lowpass\")\n",
    "\n",
    "# Set ADC Channel attenuation 31 dB, and turn on ADC channel\n",
    "soc.rfb_set_ro_rf(0,31)\n",
    "# Set ADC Channel filter as bypass mode\n",
    "soc.rfb_set_ro_filter(0, fc = 2.5, ftype = \"lowpass\")\n",
    "\n",
    "start_time = time.time()\n",
    "# P_out = 19.7 * log10(gain) -77.0 (R = 0.999868) @ 540 MHz\n",
    "cfg = {\n",
    "    # Experiment Setup\n",
    "    \"reps\" : 1,\n",
    "    \"expts\" : 800,\n",
    "    \"freq_rf\" : 540,\n",
    "    \"gain\" : 2000,\n",
    "    # Parameter Setup\n",
    "    \"pulse_time\" : 650,\n",
    "    \"number_of_pulse\" : 600,\n",
    "}\n",
    "print(\"meas time : {:.3f} ms\".format(cfg[\"pulse_time\"] * cfg[\"number_of_pulse\"] * 2.5 / 1e6 ))\n",
    "# print(prog)\n",
    "plt.figure()\n",
    "\n",
    "cfg[\"gain\"] = 1000\n",
    "prog = LongDurationPulseExample(\n",
    "    soccfg,\n",
    "    cfg,\n",
    ")\n",
    "expts, avgi, avgq  = prog.acquire(soc = soc, progress = True, start_src = \"internal\")\n",
    "end_time = time.time()\n",
    "# avgi = np.array(avgi[0]).mean(axis = 0)\n",
    "# avgq = np.array(avgq[0]).mean(axis = 0)\n",
    "\n",
    "print(f\"Acquisition time for : {end_time - start_time} s\")\n",
    "plt.scatter(avgq, avgi)\n",
    "plt.xlim([-3000 , 3000])\n",
    "plt.ylim([-3000 , 3000])\n",
    "plt.show()\n",
    "print(np.array(avgi).std())\n",
    "print(np.array(avgq).std())"
   ]
  },
  {
   "cell_type": "code",
   "execution_count": 72,
   "id": "167dad58",
   "metadata": {},
   "outputs": [
    {
     "name": "stdout",
     "output_type": "stream",
     "text": [
      "Pyro.NameServer PYRO:Pyro.NameServer@0.0.0.0:8888\n",
      "myqick PYRO:obj_38f24800b8e744bfb6326c66ea9ca7fa@192.168.2.99:38083\n",
      "meas time : 0.975 ms\n"
     ]
    },
    {
     "name": "stderr",
     "output_type": "stream",
     "text": [
      "100%|██████████| 1/1 [00:00<00:00, 200.87it/s]"
     ]
    },
    {
     "name": "stdout",
     "output_type": "stream",
     "text": [
      "Acquisition time for : 0.05404329299926758 s\n"
     ]
    },
    {
     "name": "stderr",
     "output_type": "stream",
     "text": [
      "\n"
     ]
    },
    {
     "data": {
      "image/png": "[encoded data removed]",
      "text/plain": [
       "<Figure size 640x480 with 1 Axes>"
      ]
     },
     "metadata": {},
     "output_type": "display_data"
    },
    {
     "name": "stdout",
     "output_type": "stream",
     "text": [
      "16.83474899891503\n",
      "14.083595873560293\n"
     ]
    }
   ],
   "source": [
    "\n",
    "# Qick version : 0.2.357\n",
    "(soc, soccfg) = make_proxy(\"192.168.2.99\")\n",
    "# print(soccfg)\n",
    "\n",
    "# Set DAC Channel 0 attenuation 10 dB and 10 dB, and turn on DAC channel\n",
    "soc.rfb_set_gen_rf(0,10,30)\n",
    "# Set DAC Channel filter as bypass mode\n",
    "soc.rfb_set_gen_filter(0,fc = 2.5, ftype = \"lowpass\")\n",
    "\n",
    "# Set ADC Channel attenuation 31 dB, and turn on ADC channel\n",
    "soc.rfb_set_ro_rf(0,31)\n",
    "# Set ADC Channel filter as bypass mode\n",
    "soc.rfb_set_ro_filter(0, fc = 2.5, ftype = \"lowpass\")\n",
    "\n",
    "start_time = time.time()\n",
    "# P_out = 19.7 * log10(gain) -77.0 (R = 0.999868) @ 540 MHz\n",
    "cfg = {\n",
    "    # Experiment Setup\n",
    "    \"reps\" : 1,\n",
    "    \"expts\" : 800,\n",
    "    \"freq_rf\" : 540,\n",
    "    \"gain\" : 2000,\n",
    "    # Parameter Setup\n",
    "    \"pulse_time\" : 650,\n",
    "    \"number_of_pulse\" : 600,\n",
    "}\n",
    "print(\"meas time : {:.3f} ms\".format(cfg[\"pulse_time\"] * cfg[\"number_of_pulse\"] * 2.5 / 1e6 ))\n",
    "# print(prog)\n",
    "plt.figure()\n",
    "\n",
    "cfg[\"gain\"] = 10000\n",
    "prog = LongDurationPulseExample(\n",
    "    soccfg,\n",
    "    cfg,\n",
    ")\n",
    "expts, avgi, avgq  = prog.acquire(soc = soc, progress = True, start_src = \"internal\")\n",
    "end_time = time.time()\n",
    "# avgi = np.array(avgi[0]).mean(axis = 0)\n",
    "# avgq = np.array(avgq[0]).mean(axis = 0)\n",
    "\n",
    "print(f\"Acquisition time for : {end_time - start_time} s\")\n",
    "plt.scatter(avgq, avgi)\n",
    "plt.xlim([-3000 , 3000])\n",
    "plt.ylim([-3000 , 3000])\n",
    "plt.show()\n",
    "print(np.array(avgi).std())\n",
    "print(np.array(avgq).std())"
   ]
  },
  {
   "cell_type": "code",
   "execution_count": null,
   "id": "4d5cab60",
   "metadata": {},
   "outputs": [],
   "source": []
  },
  {
   "cell_type": "code",
   "execution_count": null,
   "id": "9f2e4897",
   "metadata": {},
   "outputs": [],
   "source": []
  }
 ],
 "metadata": {
  "kernelspec": {
   "display_name": "Python 3",
   "language": "python",
   "name": "python3"
  },
  "language_info": {
   "codemirror_mode": {
    "name": "ipython",
    "version": 3
   },
   "file_extension": ".py",
   "mimetype": "text/x-python",
   "name": "python",
   "nbconvert_exporter": "python",
   "pygments_lexer": "ipython3",
   "version": "3.7.9"
  }
 },
 "nbformat": 4,
 "nbformat_minor": 5
}
