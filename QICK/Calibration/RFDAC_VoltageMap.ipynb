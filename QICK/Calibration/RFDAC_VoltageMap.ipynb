{
 "cells": [
  {
   "cell_type": "markdown",
   "id": "0446376b",
   "metadata": {},
   "source": [
    "# QICK on chip DAC to Voltage Mapping\n",
    "\n",
    "This program outputs the voltage from QICK, and meausres it with oscilloscope (Keysight DSO-X 6004A)"
   ]
  },
  {
   "cell_type": "markdown",
   "id": "65474947",
   "metadata": {},
   "source": [
    "## Import Libraries"
   ]
  },
  {
   "cell_type": "code",
   "execution_count": 14,
   "id": "b29fb563",
   "metadata": {},
   "outputs": [
    {
     "name": "stdout",
     "output_type": "stream",
     "text": [
      "AGILENT TECHNOLOGIES,DSO-X 6004A,MY60101437,07.31.2020012834\n",
      "\n",
      "Pyro.NameServer PYRO:Pyro.NameServer@0.0.0.0:8888\n",
      "myqick PYRO:obj_3cde8b18d45b4d708deec1c942f4b4c0@192.168.2.99:34289\n"
     ]
    }
   ],
   "source": [
    "import numpy as np\n",
    "import math\n",
    "import matplotlib.pyplot as plt\n",
    "import time\n",
    "import pyvisa\n",
    "from typing import Union, Any\n",
    "from pprint import pprint\n",
    "\n",
    "from qick import *\n",
    "from qick.averager_program import QickSweep\n",
    "from qick.pyro import make_proxy\n",
    "\n",
    "rm = pyvisa.ResourceManager()\n",
    "visa_addr = \"USB0::0x0957::0x1780::MY60101437::0::INSTR\"\n",
    "oscilloscope = rm.open_resource(visa_addr)\n",
    "print(oscilloscope.query(\"*IDN?\"))\n",
    "oscilloscope.write(\":TIMebase:RANGe 0.00005\")\n",
    "\n",
    "# Qick version : 0.2.357\n",
    "(soc, soccfg) = make_proxy(\"192.168.2.99\")"
   ]
  },
  {
   "cell_type": "code",
   "execution_count": 38,
   "id": "ea636a9e",
   "metadata": {},
   "outputs": [
    {
     "data": {
      "text/plain": [
       "2.0"
      ]
     },
     "execution_count": 38,
     "metadata": {},
     "output_type": "execute_result"
    }
   ],
   "source": [
    "oscilloscope.write(\":CHAN4:RANG 2\")\n",
    "float(oscilloscope.query(\":CHAN4:RANG?\"))"
   ]
  },
  {
   "cell_type": "markdown",
   "id": "44e10497",
   "metadata": {},
   "source": [
    "## Measurement Program"
   ]
  },
  {
   "cell_type": "code",
   "execution_count": 45,
   "id": "bc11ccc4",
   "metadata": {},
   "outputs": [],
   "source": [
    "class DC_Voltage_Meas(AveragerProgram):\n",
    "    def initialize(self):\n",
    "        cfg = self.cfg\n",
    "        # Declare DC generation channel\n",
    "        self.declare_gen(\n",
    "            ch      = cfg[\"ch\"],        # Channel\n",
    "            nqz     = 1,        # Nyquist Zone\n",
    "        )\n",
    "        self.declare_readout(\n",
    "            ch      = 0,\n",
    "            length  = 160,\n",
    "        )\n",
    "        self.set_pulse_registers(\n",
    "            ch      = cfg[\"ch\"],        # Generator channel\n",
    "            style   = \"const\",  # Output is constant\n",
    "            gain    = cfg[\"gain\"],\n",
    "            mode    = \"periodic\",\n",
    "            length  = 32,\n",
    "            freq    = 0,\n",
    "            phase   = 0,\n",
    "            phrst   = 0,\n",
    "        )\n",
    "        self.set_readout_registers(\n",
    "            ch      = 0,        # Readout channel\n",
    "            freq    = 0,        # Readout DDS frequency\n",
    "            length  = 16,       # Readout DDS multiplication length\n",
    "            phrst   = 0,        # Readout DDS phase reset\n",
    "        )\n",
    "        self.synci(100)\n",
    "    def body(self):\n",
    "        cfg = self.cfg\n",
    "        self.pulse(\n",
    "            ch      = cfg[\"ch\"],        # Generator channel\n",
    "            t       = 100       # Pulse will be output @ sync_t + 100\n",
    "        )\n",
    "        self.readout(\n",
    "            ch      = 0,        # Readout channel\n",
    "            t       = 100       # Readout DDS will start multiplication\n",
    "                                # @ sync_t + 100\n",
    "        )\n",
    "        self.trigger(\n",
    "            adcs    = [0],      # Readout channels\n",
    "            adc_trig_offset = 50 # Readout will capture the data @ sync_t + 50\n",
    "        )\n",
    "        self.sync_all()\n",
    "\n",
    "def measure_voltage(\n",
    "        ch: int,\n",
    "        gain: int,\n",
    "        oscilloscope, \n",
    "        soc,\n",
    "        soccfg,\n",
    "    ) -> float:\n",
    "    cfg = {\n",
    "        # Experiment Setup\n",
    "        \"ch\" : ch,\n",
    "        \"reps\" : 1,\n",
    "        \"expts\" : 1,\n",
    "        \"gain\" : gain,\n",
    "    }\n",
    "    prog = DC_Voltage_Meas(\n",
    "        soccfg,\n",
    "        cfg\n",
    "    )\n",
    "    prog.acquire(soc, progress = False)\n",
    "\n",
    "    oscilloscope.write(\":CHAN4:RANG 2.0\")\n",
    "    oscilloscope.write(\":CHAN4:IMP ONEM\")\n",
    "    oscilloscope.write(\":SYST:PREC ON\")\n",
    "    oscilloscope.write(\":MARK:MODE WAV\")\n",
    "    oscilloscope.write(\":MARK:X1Y1Source CH4\")\n",
    "    oscilloscope.write(f\":MARK:X1Position 0\")\n",
    "\n",
    "    time.sleep(3)\n",
    "    voltage = 0\n",
    "    for i in range(100):\n",
    "        voltage += float(oscilloscope.query(\":MARK:Y1Position?\"))\n",
    "    voltage = voltage / 100\n",
    "    \n",
    "    return voltage"
   ]
  },
  {
   "cell_type": "markdown",
   "id": "cad628e9",
   "metadata": {},
   "source": [
    "## Test"
   ]
  },
  {
   "cell_type": "code",
   "execution_count": 42,
   "id": "b915d1e1",
   "metadata": {},
   "outputs": [
    {
     "name": "stdout",
     "output_type": "stream",
     "text": [
      "-0.02509999999999999\n"
     ]
    }
   ],
   "source": [
    "\n",
    "resp = oscilloscope.query(\":TIMebase:RANGe?\")\n",
    "print(measure_voltage(100, oscilloscope, soc, soccfg))"
   ]
  },
  {
   "cell_type": "markdown",
   "id": "2b3172be",
   "metadata": {},
   "source": [
    "## Measurement"
   ]
  },
  {
   "cell_type": "code",
   "execution_count": 50,
   "id": "bd5dbb51",
   "metadata": {},
   "outputs": [],
   "source": [
    "channel = 3\n",
    "\n",
    "gains = np.linspace(-32766,32766,200).astype(int)\n",
    "\n",
    "data = {}\n",
    "for gain in gains:\n",
    "    data[gain] = measure_voltage(\n",
    "        ch = channel,\n",
    "        gain = gain,\n",
    "        oscilloscope = oscilloscope,\n",
    "        soc = soc,\n",
    "        soccfg = soccfg\n",
    "    )"
   ]
  },
  {
   "cell_type": "markdown",
   "id": "47bfa3f0",
   "metadata": {},
   "source": [
    "## Plot and Save it as h5"
   ]
  },
  {
   "cell_type": "code",
   "execution_count": 53,
   "id": "fd7888e0",
   "metadata": {},
   "outputs": [
    {
     "data": {
      "image/png": "[encoded data removed]",
      "text/plain": [
       "<Figure size 640x480 with 1 Axes>"
      ]
     },
     "metadata": {},
     "output_type": "display_data"
    }
   ],
   "source": [
    "import h5py\n",
    "from datetime import datetime\n",
    "\n",
    "voltages = list(data.values())\n",
    "\n",
    "plt.figure()\n",
    "plt.plot(gains, voltages)\n",
    "plt.xlabel(\"gain [A.U.]\")\n",
    "plt.ylabel(\"voltage [V]\")\n",
    "plt.show()\n",
    "\n",
    "naive_dt = datetime.now()\n",
    "_date = naive_dt.strftime(\"%Y-%m-%d_%H_%M_%S\")\n",
    "with h5py.File(f\"./GainVoltageMap/ch{channel}_gain_voltage_map_{_date}.h5\", \"w\") as f:\n",
    "    # Store other data types as datasets\n",
    "    f.create_dataset(\"gain\",data = gains)\n",
    "    f.create_dataset(\"voltage\",data = voltages)"
   ]
  },
  {
   "cell_type": "markdown",
   "id": "25d412a2",
   "metadata": {},
   "source": [
    "## Reset Output voltage as 0"
   ]
  },
  {
   "cell_type": "code",
   "execution_count": 52,
   "id": "d94e41ef",
   "metadata": {},
   "outputs": [
    {
     "data": {
      "text/plain": [
       "([array([0.])], [array([0.])])"
      ]
     },
     "execution_count": 52,
     "metadata": {},
     "output_type": "execute_result"
    }
   ],
   "source": [
    "cfg = {\n",
    "    # Experiment Setup\n",
    "    \"ch\" : channel,\n",
    "    \"reps\" : 1,\n",
    "    \"expts\" : 1,\n",
    "    \"gain\" : 0,\n",
    "}\n",
    "prog = DC_Voltage_Meas(\n",
    "    soccfg,\n",
    "    cfg\n",
    ")\n",
    "prog.acquire(soc, progress = False)"
   ]
  }
 ],
 "metadata": {
  "kernelspec": {
   "display_name": "qcodes",
   "language": "python",
   "name": "python3"
  },
  "language_info": {
   "codemirror_mode": {
    "name": "ipython",
    "version": 3
   },
   "file_extension": ".py",
   "mimetype": "text/x-python",
   "name": "python",
   "nbconvert_exporter": "python",
   "pygments_lexer": "ipython3",
   "version": "3.12.9"
  }
 },
 "nbformat": 4,
 "nbformat_minor": 5
}
