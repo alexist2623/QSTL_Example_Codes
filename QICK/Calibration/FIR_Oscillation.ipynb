{
 "cells": [
  {
   "cell_type": "markdown",
   "id": "7d98dabb",
   "metadata": {},
   "source": [
    "# FIR Filter Oscillation"
   ]
  },
  {
   "cell_type": "markdown",
   "id": "825203ba",
   "metadata": {},
   "source": [
    "## Pyro Instantiation"
   ]
  },
  {
   "cell_type": "code",
   "execution_count": 1,
   "id": "5914d6c8",
   "metadata": {},
   "outputs": [
    {
     "name": "stdout",
     "output_type": "stream",
     "text": [
      "Pyro.NameServer PYRO:Pyro.NameServer@0.0.0.0:8888\n",
      "myqick PYRO:obj_3cde8b18d45b4d708deec1c942f4b4c0@192.168.2.99:34289\n"
     ]
    }
   ],
   "source": [
    "import numpy as np\n",
    "import math\n",
    "import matplotlib.pyplot as plt\n",
    "import time\n",
    "\n",
    "from qick import *\n",
    "from qick.pyro import make_proxy\n",
    "\n",
    "# Qick version : 0.2.357\n",
    "(soc, soccfg) = make_proxy(\"192.168.2.99\")\n",
    "\n",
    "# Set DAC Channel 0 attenuation 31 dB and 31 dB, and turn on DAC channel\n",
    "soc.rfb_set_gen_rf(0,10,10)\n",
    "# Set DAC Channel filter as bypass mode\n",
    "soc.rfb_set_gen_filter(0,fc = 2.5, ftype = \"lowpass\")\n",
    "\n",
    "# Set ADC Channel attenuation 31 dB, and turn on ADC channel\n",
    "soc.rfb_set_ro_rf(0,31)\n",
    "# Set ADC Channel filter as bypass mode\n",
    "soc.rfb_set_ro_filter(0, fc = 2.5, ftype = \"lowpass\")"
   ]
  },
  {
   "cell_type": "markdown",
   "id": "199d8c06",
   "metadata": {},
   "source": [
    "## Program"
   ]
  },
  {
   "cell_type": "code",
   "execution_count": 116,
   "id": "c89f7447",
   "metadata": {},
   "outputs": [],
   "source": [
    "class MultiPulseLoopBackExample(AveragerProgram):\n",
    "    def initialize(self):\n",
    "        # set the nyquist zone\n",
    "        cfg = self.cfg\n",
    "        self.phrst  = cfg[\"phrst\"]\n",
    "        freq_rf     = cfg[\"freq_rf\"]\n",
    "        # Declare RF generation channel\n",
    "        self.declare_gen(\n",
    "            ch      = 0,        # Channel\n",
    "            nqz     = 2         # Nyquist Zone\n",
    "        )\n",
    "        # Declare RF input channel\n",
    "        self.declare_readout(\n",
    "            ch      = 0,        # Channel\n",
    "            length  = cfg[\"pulse_time\"] + 100,       # Readout length\n",
    "            number_of_trace_average = cfg[\"reps\"]\n",
    "        )\n",
    "        # Convert RF frequency to DAC DDS register value\n",
    "        self.freq_dac = self.freq2reg(\n",
    "            f       = freq_rf,  # Frequency\n",
    "            gen_ch  = 0,        # Generator channel\n",
    "            ro_ch   = 0         # Readout channel for round up\n",
    "        )\n",
    "        # Convert RF frequency to ADC DDS register value\n",
    "        freq_adc    = self.freq2reg_adc(\n",
    "            f       = freq_rf,  # Frequency\n",
    "            ro_ch   = 0,        # Readout channel\n",
    "            gen_ch  = 0         # Generator channel for round up\n",
    "        )\n",
    "        # Set ADC DDS\n",
    "        self.set_readout_registers(\n",
    "            ch      = 0,        # Readout channel\n",
    "            freq    = freq_adc, # Readout DDS frequency\n",
    "            length  = 16, # Readout DDS multiplication length\n",
    "            phrst   = self.phrst# Readout DDS phase reset\n",
    "        )\n",
    "        self.synci(100)\n",
    "\n",
    "    def body(self):\n",
    "        cfg = self.cfg\n",
    "        self.readout(\n",
    "            ch      = 0,        # Readout channel\n",
    "            t       = 100       # Readout DDS will start multiplication\n",
    "                                # @ sync_t + 100\n",
    "        )\n",
    "        self.trigger(\n",
    "            adcs    = [0],      # Readout channels\n",
    "            adc_trig_offset = 101 # Readout will capture the data @ sync_t + 50\n",
    "        )\n",
    "        self.setup_and_pulse(\n",
    "            ch      = 0,        # Generator channel\n",
    "            style   = \"const\",    # Output is envelope * gain * DDS output\n",
    "            freq    = self.freq_dac, # Generator DDS frequency\n",
    "            phase   = self.deg2reg(0, gen_ch = 0),        # Generator DDS phase\n",
    "            gain    = int(15000), # Generator amplitude\n",
    "            phrst   = self.phrst,# Generator DDS phase reset\n",
    "            length  = cfg[\"pulse_time\"],\n",
    "            t       = 100\n",
    "        )\n",
    "        self.sync_all(1000)"
   ]
  },
  {
   "cell_type": "markdown",
   "id": "28518892",
   "metadata": {},
   "source": [
    "## Phrst = False"
   ]
  },
  {
   "cell_type": "code",
   "execution_count": 113,
   "id": "3fcc6c5a",
   "metadata": {},
   "outputs": [
    {
     "name": "stdout",
     "output_type": "stream",
     "text": [
      "Acquisition time for 100000 averages: 0.6743049621582031 s\n"
     ]
    },
    {
     "data": {
      "image/png": "[encoded data removed]",
      "text/plain": [
       "<Figure size 640x480 with 1 Axes>"
      ]
     },
     "metadata": {},
     "output_type": "display_data"
    },
    {
     "name": "stdout",
     "output_type": "stream",
     "text": [
      "\n",
      "// Program\n",
      "\n",
      "        regwi 4, $22, 1072847039;               //freq = 4291388156\n",
      "        bitwi 4, $22, $22 << 2;\n",
      "        regwi 4, $26, 500;                      //mode | outsel = 0b00000 | length = 500 \n",
      "        synci 100;\n",
      "        regwi 0, $15, 0;\n",
      "        regwi 0, $14, 49999;\n",
      "LOOP_J: regwi 4, $27, 100;                      //t = 100\n",
      "        set 4, 4, $22, $0, $26, $0, $26, $27;   //ch = 0, pulse @t = $27\n",
      "        regwi 0, $16, 1;                        //out = 0b0000000000000001\n",
      "        seti 7, 0, $16, 101;                    //ch =0 out = $16 @t = 0\n",
      "        seti 7, 0, $0, 111;                     //ch =0 out = 0 @t = 0\n",
      "        regwi 0, $22, 536423519;                //freq = 2145694078\n",
      "        bitwi 0, $22, $22 << 2;\n",
      "        mathi 0, $22, $22 + 2;\n",
      "        regwi 0, $23, 0;                        //phase = 0\n",
      "        regwi 0, $25, 15000;                    //gain = 15000\n",
      "        regwi 0, $26, 590324;                   //phrst| stdysel | mode | | outsel = 0b01001 | length = 500 \n",
      "        regwi 0, $27, 100;                      //t = 100\n",
      "        set 0, 0, $22, $23, $0, $25, $26, $27;  //ch = 0, pulse @t = $27\n",
      "        synci 1901;\n",
      "        mathi 0, $15, $15 + 1;\n",
      "        memwi 0, $15, 1;\n",
      "        loopnz 0, $14, @LOOP_J;\n",
      "        end ;\n"
     ]
    }
   ],
   "source": [
    "cfg = {\n",
    "    # Experiment Setup\n",
    "    \"reps\" : 50000,\n",
    "    \"expts\" : 1,\n",
    "    # Parameter Setup\n",
    "    \"freq_rf\" : 2398,\n",
    "    \"pulse_time\" : 500,\n",
    "    \"phrst\" : 0,\n",
    "}\n",
    "prog = MultiPulseLoopBackExample(\n",
    "    soccfg,\n",
    "    cfg\n",
    ")\n",
    "LEN = 1\n",
    "start_time = time.time()\n",
    "data = (prog.acquire_trace_avg(soc = soc, progress = True))[0][0]\n",
    "for i in range(LEN):\n",
    "    data += (prog.acquire_trace_avg(soc = soc, progress = True))[0][0]\n",
    "end_time = time.time()\n",
    "\n",
    "print(f\"Acquisition time for {cfg['reps']*(LEN+1)} averages: {end_time - start_time} s\")\n",
    "plt.figure()\n",
    "plt.plot(data)\n",
    "plt.show()\n",
    "\n",
    "print(prog)"
   ]
  },
  {
   "cell_type": "markdown",
   "id": "662df891",
   "metadata": {},
   "source": [
    "## Phrst = True"
   ]
  },
  {
   "cell_type": "code",
   "execution_count": 117,
   "id": "92c6c0fa",
   "metadata": {},
   "outputs": [
    {
     "name": "stdout",
     "output_type": "stream",
     "text": [
      "Acquisition time for 100000 averages: 0.5849654674530029 s\n"
     ]
    },
    {
     "data": {
      "image/png": "[encoded data removed]",
      "text/plain": [
       "<Figure size 640x480 with 1 Axes>"
      ]
     },
     "metadata": {},
     "output_type": "display_data"
    },
    {
     "name": "stdout",
     "output_type": "stream",
     "text": [
      "\n",
      "// Program\n",
      "\n",
      "        regwi 4, $22, 1072847039;               //freq = 4291388156\n",
      "        bitwi 4, $22, $22 << 2;\n",
      "        regwi 4, $26, 524304;                   //mode | outsel = 0b01000 | length = 16 \n",
      "        synci 100;\n",
      "        regwi 0, $15, 0;\n",
      "        regwi 0, $14, 49999;\n",
      "LOOP_J: regwi 4, $27, 100;                      //t = 100\n",
      "        set 4, 4, $22, $0, $26, $0, $26, $27;   //ch = 0, pulse @t = $27\n",
      "        regwi 0, $16, 1;                        //out = 0b0000000000000001\n",
      "        seti 7, 0, $16, 101;                    //ch =0 out = $16 @t = 0\n",
      "        seti 7, 0, $0, 111;                     //ch =0 out = 0 @t = 0\n",
      "        regwi 0, $22, 536423519;                //freq = 2145694078\n",
      "        bitwi 0, $22, $22 << 2;\n",
      "        mathi 0, $22, $22 + 2;\n",
      "        regwi 0, $23, 0;                        //phase = 0\n",
      "        regwi 0, $25, 15000;                    //gain = 15000\n",
      "        regwi 0, $26, 1638700;                  //phrst| stdysel | mode | | outsel = 0b11001 | length = 300 \n",
      "        regwi 0, $27, 100;                      //t = 100\n",
      "        set 0, 0, $22, $23, $0, $25, $26, $27;  //ch = 0, pulse @t = $27\n",
      "        synci 1634;\n",
      "        mathi 0, $15, $15 + 1;\n",
      "        memwi 0, $15, 1;\n",
      "        loopnz 0, $14, @LOOP_J;\n",
      "        end ;\n"
     ]
    }
   ],
   "source": [
    "cfg = {\n",
    "    # Experiment Setup\n",
    "    \"reps\" : 50000,\n",
    "    \"expts\" : 1,\n",
    "    # Parameter Setup\n",
    "    \"freq_rf\" : 2398,\n",
    "    \"pulse_time\" : 300,\n",
    "    \"phrst\" : 1,\n",
    "}\n",
    "prog = MultiPulseLoopBackExample(\n",
    "    soccfg,\n",
    "    cfg\n",
    ")\n",
    "LEN = 1\n",
    "start_time = time.time()\n",
    "data = (prog.acquire_trace_avg(soc = soc, progress = True))[0][0]\n",
    "for i in range(LEN):\n",
    "    data += (prog.acquire_trace_avg(soc = soc, progress = True))[0][0]\n",
    "end_time = time.time()\n",
    "\n",
    "print(f\"Acquisition time for {cfg['reps']*(LEN+1)} averages: {end_time - start_time} s\")\n",
    "plt.figure()\n",
    "plt.plot(data)\n",
    "plt.show()\n",
    "\n",
    "print(prog)"
   ]
  },
  {
   "cell_type": "code",
   "execution_count": null,
   "id": "12acfbec",
   "metadata": {},
   "outputs": [],
   "source": []
  }
 ],
 "metadata": {
  "kernelspec": {
   "display_name": "qcodes",
   "language": "python",
   "name": "python3"
  },
  "language_info": {
   "codemirror_mode": {
    "name": "ipython",
    "version": 3
   },
   "file_extension": ".py",
   "mimetype": "text/x-python",
   "name": "python",
   "nbconvert_exporter": "python",
   "pygments_lexer": "ipython3",
   "version": "3.12.9"
  }
 },
 "nbformat": 4,
 "nbformat_minor": 5
}
