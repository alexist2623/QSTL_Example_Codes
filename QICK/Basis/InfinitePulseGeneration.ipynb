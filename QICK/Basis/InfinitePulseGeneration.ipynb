{
 "cells": [
  {
   "cell_type": "markdown",
   "metadata": {},
   "source": [
    "# Infinite Pulse Generation Example\n",
    "\n",
    "With periodic option in pulse, we can make endless pulse output. Utilizing this, we can make pulse whose duration large than 1 ms. It is recommended to see pulse in oscilloscope."
   ]
  },
  {
   "cell_type": "markdown",
   "metadata": {},
   "source": [
    "## QICK Pyro Instance"
   ]
  },
  {
   "cell_type": "code",
   "execution_count": 1,
   "metadata": {},
   "outputs": [
    {
     "name": "stdout",
     "output_type": "stream",
     "text": [
      "Pyro.NameServer PYRO:Pyro.NameServer@0.0.0.0:8888\n",
      "myqick PYRO:obj_9e7b8834f47742059e2241b4b43709e7@192.168.2.99:33491\n"
     ]
    }
   ],
   "source": [
    "import numpy as np\n",
    "import matplotlib.pyplot as plt\n",
    "\n",
    "from qick import *\n",
    "from qick.averager_program import QickSweep, merge_sweeps\n",
    "from qick.asm_v1 import QickRegister\n",
    "from qick.pyro import make_proxy\n",
    "\n",
    "# Qick version : 0.2.357\n",
    "(soc, soccfg) = make_proxy(\"192.168.2.99\")\n",
    "\n",
    "# Set DAC Channel 0 attenuation 10 dB and 10 dB, and turn on DAC channel\n",
    "soc.rfb_set_gen_rf(0,10,10)\n",
    "soc.rfb_set_gen_rf(2,0,0)\n",
    "# Set DAC Channel filter as bypass mode\n",
    "soc.rfb_set_gen_filter(0,fc = 2.5, ftype = \"lowpass\")\n",
    "soc.rfb_set_gen_filter(2,fc = 2.5, ftype = \"lowpass\")\n",
    "######################################################\n",
    "# 540 MHz gain-power calibration data\n",
    "######################################################\n",
    "# Att : 0dB, 0dB, gain : 30000 : 11.4 dBm\n",
    "# Att : 0dB, 0dB, gain : 25000 : 9.9 dBm\n",
    "# Att : 0dB, 0dB, gain : 20000 : 8.1 dBm\n",
    "# Att : 0dB, 0dB, gain : 15000 : 5.7 dBm\n",
    "# Att : 0dB, 0dB, gain : 10000 : 2.3 dBm\n",
    "# Att : 0dB, 0dB, gain : 7500 : -0.2 dBm\n",
    "# Att : 0dB, 0dB, gain : 5000 : -3.7 dBm\n",
    "# Att : 0dB, 0dB, gain : 2500 : -9.72 dBm\n",
    "# Att : 0dB, 0dB, gain : 2000 : -11.7 dBm\n",
    "# Att : 0dB, 0dB, gain : 1500 : -14.2 dBm\n",
    "# Att : 0dB, 0dB, gain : 1000 : -17.6 dBm\n",
    "# Att : 0dB, 0dB, gain : 500 : -23.5 dBm\n",
    "# Att : 0dB, 0dB, gain : 250 : -29.6 dBm\n",
    "\n",
    "# Set ADC Channel attenuation 31 dB, and turn on ADC channel\n",
    "soc.rfb_set_ro_rf(0,31)\n",
    "# Set ADC Channel filter as bypass mode\n",
    "soc.rfb_set_ro_filter(0, fc = 2.5, ftype = \"lowpass\")\n"
   ]
  },
  {
   "cell_type": "markdown",
   "metadata": {},
   "source": [
    "## Program"
   ]
  },
  {
   "cell_type": "code",
   "execution_count": 2,
   "metadata": {},
   "outputs": [],
   "source": [
    "\n",
    "RegisterType = [\"freq\", \"time\", \"phase\", \"adc_freq\"]\n",
    "\n",
    "MHz = 1\n",
    "class InfinitePulse(AveragerProgram):\n",
    "    def initialize(self):\n",
    "        freq_rf     = self.cfg[\"freq_rf\"]\n",
    "        # Declare RF generation channel\n",
    "        self.declare_gen(\n",
    "            ch      = 0,        # Channel\n",
    "            nqz     = 2         # Nyquist Zone\n",
    "        )\n",
    "        self.declare_gen(\n",
    "            ch      = 2,        # Channel\n",
    "            nqz     = 2         # Nyquist Zone\n",
    "        )\n",
    "        # Declare RF input channel\n",
    "        self.declare_readout(\n",
    "            ch      = 0,        # Channel\n",
    "            length  = self.cfg[\"duration\"] + 100       # Readout length\n",
    "        )\n",
    "        # Convert RF frequency to DAC DDS register value\n",
    "        freq_dac    = self.freq2reg(\n",
    "            f       = freq_rf,  # Frequency\n",
    "            gen_ch  = 0,        # Generator channel\n",
    "            ro_ch   = 0         # Readout channel for round up\n",
    "        )\n",
    "        # Convert RF frequency to ADC DDS register value\n",
    "        freq_adc    = self.freq2reg_adc(\n",
    "            f       = freq_rf,  # Frequency\n",
    "            ro_ch   = 0,        # Readout channel\n",
    "            gen_ch  = 0         # Generator channel for round up\n",
    "        )\n",
    "\n",
    "        # Set DAC DDS\n",
    "        self.set_pulse_registers(\n",
    "            ch      = 0,        # Generator channel\n",
    "            style   = \"const\",  # Output is gain * DDS output\n",
    "            freq    = freq_dac, # Generator DDS frequency\n",
    "            phase   = 0,        # Generator DDS phase\n",
    "            gain    = 2500,      # Generator amplitude\n",
    "            length  = self.cfg[\"duration\"], # Pulse length\n",
    "            phrst   = 0,        # Generator DDS phase reset\n",
    "            mode    = \"periodic\"\n",
    "        )\n",
    "        self.set_pulse_registers(\n",
    "            ch      = 2,        # Generator channel\n",
    "            style   = \"const\",  # Output is gain * DDS output\n",
    "            freq    = freq_dac, # Generator DDS frequency\n",
    "            phase   = 0,        # Generator DDS phase\n",
    "            gain    = 0,      # Generator amplitude\n",
    "            length  = self.cfg[\"duration\"], # Pulse length\n",
    "            phrst   = 0,        # Generator DDS phase reset\n",
    "            mode    = \"periodic\"\n",
    "        )\n",
    "        # Set ADC DDS\n",
    "        self.set_readout_registers(\n",
    "            ch      = 0,        # Readout channel\n",
    "            freq    = freq_adc, # Readout DDS frequency\n",
    "            length  = self.cfg[\"duration\"], # Readout DDS multiplication length\n",
    "            phrst   = 0         # Readout DDS phase reset\n",
    "        )\n",
    "        self.synci(100)\n",
    "\n",
    "    def body(self):\n",
    "        self.pulse(\n",
    "            ch      = 0,        # Generator channel\n",
    "            t       = 100       # Pulse will be output @ sync_t + 100\n",
    "        )\n",
    "        self.pulse(\n",
    "            ch      = 2,        # Generator channel\n",
    "            t       = 100       # Pulse will be output @ sync_t + 100\n",
    "        )\n",
    "        self.readout(\n",
    "            ch      = 0,        # Readout channel\n",
    "            t       = 100       # Readout DDS will start multiplication\n",
    "                                # @ sync_t + 100\n",
    "        )\n",
    "        self.trigger(\n",
    "            adcs    = [0],      # Readout channels\n",
    "            adc_trig_offset = 50 # Readout will capture the data @ sync_t + 50\n",
    "        )\n",
    "        self.sync_all(100)"
   ]
  },
  {
   "cell_type": "markdown",
   "metadata": {},
   "source": [
    "## Execution"
   ]
  },
  {
   "cell_type": "code",
   "execution_count": 3,
   "metadata": {},
   "outputs": [
    {
     "data": {
      "application/vnd.jupyter.widget-view+json": {
       "model_id": "aaad3de7ae2b41c28a11365856dca6af",
       "version_major": 2,
       "version_minor": 0
      },
      "text/plain": [
       "  0%|          | 0/1 [00:00<?, ?it/s]"
      ]
     },
     "metadata": {},
     "output_type": "display_data"
    },
    {
     "data": {
      "text/plain": [
       "([array([-888.813125])], [array([1138.415])])"
      ]
     },
     "execution_count": 3,
     "metadata": {},
     "output_type": "execute_result"
    }
   ],
   "source": [
    "soc.rfb_set_ro_rf(0,31)\n",
    "# Set ADC Channel filter as bypass mode\n",
    "soc.rfb_set_ro_filter(0, fc = 2.5, ftype = \"lowpass\")\n",
    "\n",
    "cfg = {\n",
    "    # Experiment Setup\n",
    "    \"reps\" : 1,\n",
    "    \"duration\" : 1500,\n",
    "    \"expts\" : 1,\n",
    "    \"freq_rf\" : 540\n",
    "}\n",
    "prog = InfinitePulse(\n",
    "    soccfg,\n",
    "    cfg\n",
    ")\n",
    "prog.acquire(soc)"
   ]
  }
 ],
 "metadata": {
  "kernelspec": {
   "display_name": "qcodes",
   "language": "python",
   "name": "python3"
  },
  "language_info": {
   "codemirror_mode": {
    "name": "ipython",
    "version": 3
   },
   "file_extension": ".py",
   "mimetype": "text/x-python",
   "name": "python",
   "nbconvert_exporter": "python",
   "pygments_lexer": "ipython3",
   "version": "3.12.9"
  }
 },
 "nbformat": 4,
 "nbformat_minor": 2
}
