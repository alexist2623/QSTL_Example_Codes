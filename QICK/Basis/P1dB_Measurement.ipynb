{
 "cells": [
  {
   "cell_type": "markdown",
   "metadata": {},
   "source": [
    "# P1dB Measurement\n",
    "\n",
    "ADC saturates when high power came to ADC (Not DAC). You can get P1dB of gain with this code."
   ]
  },
  {
   "cell_type": "markdown",
   "metadata": {},
   "source": [
    "## QICK Pyro Instantiation"
   ]
  },
  {
   "cell_type": "code",
   "execution_count": 1,
   "metadata": {},
   "outputs": [
    {
     "name": "stdout",
     "output_type": "stream",
     "text": [
      "Pyro.NameServer PYRO:Pyro.NameServer@0.0.0.0:8888\n",
      "myqick PYRO:obj_9d369bee84084fc19b57abe94672fcca@192.168.2.99:42971\n"
     ]
    }
   ],
   "source": [
    "import numpy as np\n",
    "import matplotlib.pyplot as plt\n",
    "\n",
    "from qick import *\n",
    "from qick.averager_program import QickSweep, merge_sweeps\n",
    "from qick.asm_v1 import QickRegister\n",
    "from qick.pyro import make_proxy\n",
    "\n",
    "# Qick version : 0.2.357\n",
    "(soc, soccfg) = make_proxy(\"192.168.2.99\")\n",
    "# Set DAC Channel 0 attenuation 20 dB and 20 dB, and turn on DAC channel\n",
    "soc.rfb_set_gen_rf(0,10,10)\n",
    "# Set DAC Channel filter as bypass mode\n",
    "soc.rfb_set_gen_filter(0,fc = 2.5, ftype = \"lowpass\")\n",
    "# Set ADC Channel attenuation 20 dB, and turn on ADC channel\n",
    "soc.rfb_set_ro_rf(0,10)\n",
    "# Set ADC Channel filter as bypass mode\n",
    "soc.rfb_set_ro_filter(0, fc = 2.5, ftype = \"lowpass\")"
   ]
  },
  {
   "cell_type": "markdown",
   "metadata": {},
   "source": [
    "## Single Frequency P1dB Measurement Program"
   ]
  },
  {
   "cell_type": "code",
   "execution_count": 2,
   "metadata": {},
   "outputs": [
    {
     "name": "stderr",
     "output_type": "stream",
     "text": [
      "C:\\Users\\Measurement6\\AppData\\Local\\Temp\\ipykernel_30224\\1355845054.py:77: MatplotlibDeprecationWarning: The get_cmap function was deprecated in Matplotlib 3.7 and will be removed in 3.11. Use ``matplotlib.colormaps[name]`` or ``matplotlib.colormaps.get_cmap()`` or ``pyplot.get_cmap()`` instead.\n",
      "  cmap = plt.cm.get_cmap(\"tab10\", len(freq_rf))\n"
     ]
    },
    {
     "data": {
      "application/vnd.jupyter.widget-view+json": {
       "model_id": "1bf656c94ed5486a8b7736cafa208a1c",
       "version_major": 2,
       "version_minor": 0
      },
      "text/plain": [
       "  0%|          | 0/50000 [00:00<?, ?it/s]"
      ]
     },
     "metadata": {},
     "output_type": "display_data"
    },
    {
     "data": {
      "image/png": "[encoded data removed]",
      "text/plain": [
       "<Figure size 640x480 with 1 Axes>"
      ]
     },
     "metadata": {},
     "output_type": "display_data"
    }
   ],
   "source": [
    "class P1dBMeas_Exp(NDAveragerProgram):\n",
    "    def initialize(self):\n",
    "        cfg = self.cfg\n",
    "        freq_rf     = cfg[\"freq_rf\"]\n",
    "        # Declare RF generation channel\n",
    "        self.declare_gen(\n",
    "            ch      = 0,        # Channel\n",
    "            nqz     = 1         # Nyquist Zone\n",
    "        )\n",
    "        # Declare RF input channel\n",
    "        self.declare_readout(\n",
    "            ch      = 0,        # Channel\n",
    "            length  = cfg[\"pulse_time\"] + 100       # Readout length\n",
    "        )\n",
    "        self.r_gain  = self.get_gen_reg(gen_ch = 0, name = \"gain\")\n",
    "        self.add_sweep(\n",
    "            QickSweep(\n",
    "                prog    = self,\n",
    "                reg     = self.r_gain,\n",
    "                start   = 300,\n",
    "                stop    = 35000,\n",
    "                expts   = 50,\n",
    "                label   = \"gain_sweep\"\n",
    "            )\n",
    "        )\n",
    "\n",
    "        # Convert RF frequency to DAC DDS register value\n",
    "        freq_dac    = self.freq2reg(\n",
    "            f       = freq_rf,  # Frequency\n",
    "            gen_ch  = 0,        # Generator channel\n",
    "            ro_ch   = 0         # Readout channel for round up\n",
    "        )\n",
    "        # Convert RF frequency to ADC DDS register value\n",
    "        freq_adc    = self.freq2reg_adc(\n",
    "            f       = freq_rf,  # Frequency\n",
    "            ro_ch   = 0,        # Readout channel\n",
    "            gen_ch  = 0         # Generator channel for round up\n",
    "        )\n",
    "\n",
    "        # Set DAC DDS\n",
    "        self.set_pulse_registers(\n",
    "            ch      = 0,        # Generator channel\n",
    "            style   = \"const\",  # Output is gain * DDS output\n",
    "            freq    = freq_dac, # Generator DDS frequency\n",
    "            phase   = 0,        # Generator DDS phase\n",
    "            gain    = 5000,     # Generator amplitude\n",
    "            length  = cfg[\"pulse_time\"],       # Pulse length\n",
    "            phrst   = 0         # Generator DDS phase reset\n",
    "        )\n",
    "        # Set ADC DDS\n",
    "        self.set_readout_registers(\n",
    "            ch      = 0,        # Readout channel\n",
    "            freq    = freq_adc, # Readout DDS frequency\n",
    "            length  = cfg[\"pulse_time\"],       # Readout DDS multiplication length\n",
    "            phrst   = 0         # Readout DDS phase reset\n",
    "        )\n",
    "        self.synci(100)\n",
    "    def body(self):\n",
    "        self.pulse(\n",
    "            ch      = 0,        # Generator channel\n",
    "            t       = 50        # Pulse will be output @ sync_t + 100\n",
    "        )\n",
    "        self.readout(\n",
    "            ch      = 0,        # Readout channel\n",
    "            t       = 50        # Readout DDS will start multiplication\n",
    "                                # @ sync_t + 100\n",
    "        )\n",
    "        self.trigger(\n",
    "            adcs    = [0],      # Readout channels\n",
    "            adc_trig_offset = 150 # Readout will capture the data @ sync_t + 50\n",
    "        )\n",
    "        self.sync_all(1000)\n",
    "\n",
    "freq_rf = [\n",
    "    540\n",
    "]\n",
    "cmap = plt.cm.get_cmap(\"tab10\", len(freq_rf))\n",
    "plt.figure()\n",
    "for i, f in enumerate(freq_rf):\n",
    "    cfg = {\n",
    "        # Experiment Setup\n",
    "        \"reps\" : 1000,\n",
    "        \"expts\" : 1,\n",
    "        \"freq_sweep_num\" : 100,\n",
    "        \"duration_sweep_num\" : 100,\n",
    "        # Parameter Setup\n",
    "        \"freq_rf\" : f,\n",
    "        \"pulse_time\" : 4000\n",
    "    }\n",
    "    prog = P1dBMeas_Exp(\n",
    "        soccfg, # Note that it should be QickSocConfig, not the QickSoc\n",
    "        cfg\n",
    "    )\n",
    "    expt_pts, avg_di, avg_dq = prog.acquire(soc, progress=True)\n",
    "    meas_pwr = np.sqrt(avg_di[0][0] * avg_di[0][0] + avg_dq[0][0] * avg_dq[0][0])\n",
    "\n",
    "    plt.plot(expt_pts[0]/32768, meas_pwr, color=cmap(i))\n",
    "plt.tight_layout()\n",
    "plt.legend([f\"{f} MHz\" for f in freq_rf])\n",
    "plt.show()"
   ]
  },
  {
   "cell_type": "markdown",
   "metadata": {},
   "source": [
    "## Multi Frequency P1dB Measurement"
   ]
  },
  {
   "cell_type": "code",
   "execution_count": 3,
   "metadata": {},
   "outputs": [
    {
     "name": "stdout",
     "output_type": "stream",
     "text": [
      "\n",
      "// Program\n",
      "\n",
      "        regwi 0, $22, 89478485;                 //freq = 89478485\n",
      "        regwi 0, $23, 0;                        //phase = 0\n",
      "        regwi 0, $25, 5000;                     //gain = 5000\n",
      "        regwi 0, $26, 591824;                   //phrst| stdysel | mode | | outsel = 0b01001 | length = 2000 \n",
      "        regwi 4, $22, 178956970;                //freq = 178956970\n",
      "        regwi 4, $26, 2000;                     //mode | outsel = 0b00000 | length = 2000 \n",
      "        synci 100;\n",
      "        regwi 0, $13, 0;\n",
      "        regwi 0, $14, 499;\n",
      "LOOP_I: regwi 0, $15, 999;\n",
      "LOOP_J: regwi 0, $27, 100;                      //t = 100\n",
      "        set 0, 0, $22, $23, $0, $25, $26, $27;  //ch = 0, pulse @t = $27\n",
      "        regwi 4, $27, 100;                      //t = 100\n",
      "        set 4, 4, $22, $0, $26, $0, $26, $27;   //ch = 0, pulse @t = $27\n",
      "        regwi 0, $16, 1;                        //out = 0b0000000000000001\n",
      "        seti 7, 0, $16, 50;                     //ch =0 out = $16 @t = 0\n",
      "        seti 7, 0, $0, 60;                      //ch =0 out = 0 @t = 0\n",
      "        synci 2950;\n",
      "        mathi 0, $13, $13 + 1;\n",
      "        memwi 0, $13, 1;\n",
      "        loopnz 0, $15, @LOOP_J;\n",
      "        mathi 4, $22, $22 + 8947848;\n",
      "        mathi 0, $22, $22 + 4473924;\n",
      "        synci 10;\n",
      "        loopnz 0, $14, @LOOP_I;\n",
      "        end ;\n"
     ]
    },
    {
     "data": {
      "application/vnd.jupyter.widget-view+json": {
       "model_id": "b4a492d99817489fa7161de889058476",
       "version_major": 2,
       "version_minor": 0
      },
      "text/plain": [
       "  0%|          | 0/500000 [00:00<?, ?it/s]"
      ]
     },
     "metadata": {},
     "output_type": "display_data"
    },
    {
     "data": {
      "image/png": "[encoded data removed]",
      "text/plain": [
       "<Figure size 640x480 with 1 Axes>"
      ]
     },
     "metadata": {},
     "output_type": "display_data"
    }
   ],
   "source": [
    "RegisterType = [\"freq\", \"time\", \"phase\", \"adc_freq\"]\n",
    "MHz = 1\n",
    "\n",
    "class P1dB_Meas(RAveragerProgram):\n",
    "    def initialize(self):\n",
    "        freq_rf     = self.cfg[\"start\"]\n",
    "        # Declare RF generation channel\n",
    "        self.declare_gen(\n",
    "            ch      = 0,        # Channel\n",
    "            nqz     = 2         # Nyquist Zone\n",
    "        )\n",
    "\n",
    "        # Declare RF input channel\n",
    "        self.declare_readout(\n",
    "            ch      = 0,        # Channel\n",
    "            length  = self.cfg[\"pulse_time\"] + 100      # Readout length\n",
    "        )\n",
    "\n",
    "        # Convert RF frequency to DAC DDS register value\n",
    "        freq_dac    = self.freq2reg(\n",
    "            f       = freq_rf,  # Frequency\n",
    "            gen_ch  = 0,        # Generator channel\n",
    "            ro_ch   = 0         # Readout channel for round up\n",
    "        )\n",
    "\n",
    "        # Convert RF frequency to ADC DDS register value\n",
    "        freq_adc    = self.freq2reg_adc(\n",
    "            f       = freq_rf,  # Frequency\n",
    "            ro_ch   = 0,        # Readout channel\n",
    "            gen_ch  = 0         # Generator channel for round up\n",
    "        )\n",
    "\n",
    "        # Set DAC DDS\n",
    "        self.set_pulse_registers(\n",
    "            ch      = 0,        # Generator channel\n",
    "            style   = \"const\",  # Output is gain * DDS output\n",
    "            freq    = freq_dac, # Generator DDS frequency\n",
    "            phase   = 0,        # Generator DDS phase\n",
    "            gain    = 5000,     # Generator amplitude\n",
    "            length  = self.cfg[\"pulse_time\"],       # Pulse length\n",
    "            phrst   = 0         # Generator DDS phase reset\n",
    "        )\n",
    "\n",
    "        # Set ADC DDS\n",
    "        self.set_readout_registers(\n",
    "            ch      = 0,        # Readout channel\n",
    "            freq    = freq_adc, # Readout DDS frequency\n",
    "            length  = self.cfg[\"pulse_time\"],       # Readout DDS multiplication length\n",
    "            phrst   = 0         # Readout DDS phase reset\n",
    "        )\n",
    "        self.synci(100)\n",
    "        (self.ro_rp, self.ro_freq) = self._ro_regmap[0, \"freq\"]\n",
    "        (self.gen_rp, self.gen_freq) = self._gen_regmap[0, \"freq\"]\n",
    "\n",
    "    def body(self):\n",
    "        self.pulse(\n",
    "            ch      = 0,        # Generator channel\n",
    "            t       = 100       # Pulse will be output @ sync_t + 100\n",
    "        )\n",
    "\n",
    "        self.readout(\n",
    "            ch      = 0,        # Readout channel\n",
    "            t       = 100       # Readout DDS will start multiplication\n",
    "                                # @ sync_t + 100\n",
    "        )\n",
    "        self.trigger(\n",
    "            adcs    = [0],      # Readout channels\n",
    "            adc_trig_offset = 50 # Readout will capture the data @ sync_t + 50\n",
    "        )\n",
    "        self.sync_all(100)\n",
    "\n",
    "    def update(self): \n",
    "        # Update readout frequency register \n",
    "        self.mathi(\n",
    "            self.ro_rp, self.ro_freq, self.ro_freq, '+',\n",
    "            self.freq2reg_adc(self.cfg[\"step\"], 0, 0)\n",
    "        )\n",
    "        # Update generator frequency register\n",
    "        self.mathi(\n",
    "            self.gen_rp, self.gen_freq, self.gen_freq, '+',\n",
    "            self.freq2reg(self.cfg[\"step\"], 0, 0)\n",
    "        )\n",
    "        self.synci(10)\n",
    "\n",
    "cfg = {\n",
    "    # Experiment Setup\n",
    "    \"reps\" : 1000,\n",
    "    \"freq_sweep_num\" : 20,\n",
    "    \"duration_sweep_num\" : 10,\n",
    "    \"start\" : 100,\n",
    "    \"step\" : 5,\n",
    "    \"expts\" : 500,\n",
    "    # Parameter Setup\n",
    "    \"pulse_time\" : 2000\n",
    "} \n",
    "\n",
    "prog = P1dB_Meas(\n",
    "    soccfg,\n",
    "    cfg\n",
    ")\n",
    "print(prog)\n",
    "expts, avgi, avgq = prog.acquire(soc, progress = True)\n",
    "plt.figure()\n",
    "plt.plot(expts, avgi[0][0] * avgi[0][0] + avgq[0][0] * avgq[0][0], '.-')\n",
    "plt.show()\n"
   ]
  }
 ],
 "metadata": {
  "kernelspec": {
   "display_name": "qcodes",
   "language": "python",
   "name": "python3"
  },
  "language_info": {
   "codemirror_mode": {
    "name": "ipython",
    "version": 3
   },
   "file_extension": ".py",
   "mimetype": "text/x-python",
   "name": "python",
   "nbconvert_exporter": "python",
   "pygments_lexer": "ipython3",
   "version": "3.12.9"
  }
 },
 "nbformat": 4,
 "nbformat_minor": 2
}
