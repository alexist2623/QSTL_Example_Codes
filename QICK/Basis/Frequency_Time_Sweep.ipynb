{
 "cells": [
  {
   "cell_type": "markdown",
   "metadata": {},
   "source": [
    "# Frequency, Time Sweep Program\n",
    "\n",
    "This program runs frequency, and pulse time sweep on FPGA."
   ]
  },
  {
   "cell_type": "markdown",
   "metadata": {},
   "source": [
    "## Get Pyro SoC Instance"
   ]
  },
  {
   "cell_type": "code",
   "execution_count": null,
   "metadata": {},
   "outputs": [],
   "source": [
    "import numpy as np\n",
    "import matplotlib.pyplot as plt\n",
    "\n",
    "from qick import *\n",
    "from qick.averager_program import QickSweep, merge_sweeps\n",
    "from qick.asm_v1 import QickRegister\n",
    "from qick.pyro import make_proxy\n",
    "\n",
    "# Qick version : 0.2.357\n",
    "(soc, soccfg) = make_proxy(\"192.168.2.99\")\n",
    "\n",
    "# Set DAC Channel 0 attenuation 31 dB and 31 dB, and turn on DAC channel\n",
    "soc.rfb_set_gen_rf(0,31,31)\n",
    "# Set DAC Channel filter as bypass mode\n",
    "soc.rfb_set_gen_filter(0,fc = 2.5, ftype = \"lowpass\")\n",
    "\n",
    "# Set ADC Channel attenuation 31 dB, and turn on ADC channel\n",
    "soc.rfb_set_ro_rf(0,31)\n",
    "# Set ADC Channel filter as bypass mode\n",
    "soc.rfb_set_ro_filter(0, fc = 2.5, ftype = \"lowpass\")"
   ]
  },
  {
   "cell_type": "markdown",
   "metadata": {},
   "source": [
    "## Program"
   ]
  },
  {
   "cell_type": "code",
   "execution_count": null,
   "metadata": {},
   "outputs": [],
   "source": [
    "RegisterType = [\"freq\", \"time\", \"phase\", \"adc_freq\"]\n",
    "\n",
    "MHz = 1\n",
    "class Sweep_Freq_Time_Exp(RAveragerProgram):\n",
    "    def initialize(self):\n",
    "        freq_rf     = self.cfg[\"start\"]\n",
    "        # Declare RF generation channel\n",
    "        self.declare_gen(\n",
    "            ch      = 0,        # Channel\n",
    "            nqz     = 2         # Nyquist Zone\n",
    "        )\n",
    "        # Declare RF input channel\n",
    "        self.declare_readout(\n",
    "            ch      = 0,        # Channel\n",
    "            length  = self.cfg[\"pulse_time\"] + 100       # Readout length\n",
    "        )\n",
    "        # Convert RF frequency to DAC DDS register value\n",
    "        freq_dac    = self.freq2reg(\n",
    "            f       = freq_rf,  # Frequency\n",
    "            gen_ch  = 0,        # Generator channel\n",
    "            ro_ch   = 0         # Readout channel for round up\n",
    "        )\n",
    "        # Convert RF frequency to ADC DDS register value\n",
    "        freq_adc    = self.freq2reg_adc(\n",
    "            f       = freq_rf,  # Frequency\n",
    "            ro_ch   = 0,        # Readout channel\n",
    "            gen_ch  = 0         # Generator channel for round up\n",
    "        )\n",
    "\n",
    "        # Set DAC DDS\n",
    "        self.set_pulse_registers(\n",
    "            ch      = 0,        # Generator channel\n",
    "            style   = \"const\",  # Output is gain * DDS output\n",
    "            freq    = freq_dac, # Generator DDS frequency\n",
    "            phase   = 0,        # Generator DDS phase\n",
    "            gain    = 1000,     # Generator amplitude\n",
    "            length  = self.cfg[\"duration_start\"], # Pulse length\n",
    "            phrst   = 0         # Generator DDS phase reset\n",
    "        )\n",
    "        # Set ADC DDS\n",
    "        self.set_readout_registers(\n",
    "            ch      = 0,        # Readout channel\n",
    "            freq    = freq_adc, # Readout DDS frequency\n",
    "            length  = self.cfg[\"pulse_time\"], # Readout DDS multiplication length\n",
    "            phrst   = 0         # Readout DDS phase reset\n",
    "        )\n",
    "        self.synci(100)\n",
    "\n",
    "        (self.ro_rp, self.ro_freq) = self._ro_regmap[0, \"freq\"]\n",
    "        (self.gen_rp, self.gen_freq) = self._gen_regmap[0, \"freq\"]\n",
    "        (self.gen_rp, self.gen_mode) = self._gen_regmap[0, \"mode\"]\n",
    "        self.rii = 3\n",
    "        self.regwi(0, self.rii, self.cfg[\"inner_loop\"] - 1)\n",
    "    def body(self):\n",
    "        self.pulse(\n",
    "            ch      = 0,        # Generator channel\n",
    "            t       = 100       # Pulse will be output @ sync_t + 100\n",
    "        )\n",
    "        self.readout(\n",
    "            ch      = 0,        # Readout channel\n",
    "            t       = 100       # Readout DDS will start multiplication\n",
    "                                # @ sync_t + 100\n",
    "        )\n",
    "        self.trigger(\n",
    "            adcs    = [0],      # Readout channels\n",
    "            adc_trig_offset = 50 # Readout will capture the data @ sync_t + 50\n",
    "        )\n",
    "        self.sync_all(100)\n",
    "\n",
    "    def update(self):\n",
    "        self.mathi(self.ro_rp, self.ro_freq, self.ro_freq,\n",
    "                   '+', self.freq2reg_adc(self.cfg[\"step\"], 0, 0))\n",
    "        self.mathi(self.gen_rp, self.gen_freq, self.gen_freq,\n",
    "                   '+', self.freq2reg(self.cfg[\"step\"], 0, 0))\n",
    "        self.loopnz(0, self.rii, \"LOOP_A\")\n",
    "        self.safe_regwi(self.ro_rp, self.ro_freq,\n",
    "                        self.freq2reg_adc(self.cfg[\"start\"], 0, 0))\n",
    "        self.safe_regwi(self.gen_rp, self.gen_freq,\n",
    "                        self.freq2reg(self.cfg[\"start\"], 0, 0))\n",
    "        self.regwi(0, self.rii, self.cfg[\"inner_loop\"] - 1)\n",
    "        self.mathi(self.gen_rp, self.gen_mode, self.gen_mode,\n",
    "                   '+', self.cfg[\"duration_step\"]) # Set to single mode\n",
    "        self.label(\"LOOP_A\")\n",
    "        self.synci(10)"
   ]
  },
  {
   "cell_type": "markdown",
   "metadata": {},
   "source": [
    "## Execution"
   ]
  },
  {
   "cell_type": "code",
   "execution_count": null,
   "metadata": {},
   "outputs": [],
   "source": [
    "cfg = {\n",
    "    # Experiment Setup\n",
    "    \"reps\" : 100,\n",
    "    \"duration_sweep_num\" : 10,\n",
    "    \"start\" : 500,\n",
    "    \"inner_loop\" : 100,\n",
    "    \"step\" : 1,\n",
    "    \"duration_start\" : 1000,\n",
    "    \"duration_step\" : 200,\n",
    "    \"expts\" : 5000,\n",
    "    # Parameter Setup\n",
    "    \"pulse_time\" : 2800\n",
    "}\n",
    "prog = Sweep_Freq_Time_Exp(\n",
    "    soccfg,\n",
    "    cfg\n",
    ")\n",
    "print(prog)\n",
    "expts, avgi, avgq = prog.acquire(soc, progress = True)\n",
    "freq = np.arange(cfg[\"inner_loop\"]) * cfg[\"step\"] + cfg[\"start\"]\n",
    "duration = np.arange(\n",
    "    int(cfg[\"expts\"] / cfg[\"inner_loop\"])\n",
    ") * cfg[\"duration_step\"] + cfg[\"duration_start\"]\n",
    "avg = np.sqrt(np.array(avgi)**2 + np.array(avgq)**2)\n",
    "avg = np.reshape(avg, (int(cfg[\"expts\"] / cfg[\"inner_loop\"]), cfg[\"inner_loop\"]))"
   ]
  },
  {
   "cell_type": "markdown",
   "metadata": {},
   "source": [
    "## Plot Result"
   ]
  },
  {
   "cell_type": "code",
   "execution_count": null,
   "metadata": {},
   "outputs": [],
   "source": [
    "sc1 = plt.pcolormesh(freq, duration, avg, shading='nearest')\n",
    "plt.colorbar(sc1, label=\"|I + jQ|\")\n",
    "plt.show()\n",
    "phase = np.angle(np.array(avgi) + 1j * np.array(avgq), deg=True)\n",
    "phase = np.reshape(phase, (int(cfg[\"expts\"] / cfg[\"inner_loop\"]), cfg[\"inner_loop\"]))\n",
    "sc2 = plt.pcolormesh(freq, duration, phase, shading='nearest', cmap='twilight')\n",
    "plt.colorbar(sc2, label=\"Phase (deg)\")\n",
    "plt.show()"
   ]
  }
 ],
 "metadata": {
  "language_info": {
   "name": "python"
  }
 },
 "nbformat": 4,
 "nbformat_minor": 2
}
