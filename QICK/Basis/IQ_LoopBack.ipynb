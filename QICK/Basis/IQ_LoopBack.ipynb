{
 "cells": [
  {
   "cell_type": "markdown",
   "metadata": {},
   "source": [
    "# IQ Loopback Example\n",
    "\n",
    "This is simple IQ loopback test program."
   ]
  },
  {
   "cell_type": "markdown",
   "metadata": {},
   "source": [
    "## QICK Pyro4 Instanctiation"
   ]
  },
  {
   "cell_type": "code",
   "execution_count": 4,
   "metadata": {},
   "outputs": [
    {
     "name": "stdout",
     "output_type": "stream",
     "text": [
      "Pyro.NameServer PYRO:Pyro.NameServer@0.0.0.0:8888\n",
      "myqick PYRO:obj_9e7b8834f47742059e2241b4b43709e7@192.168.2.99:33491\n"
     ]
    }
   ],
   "source": [
    "import numpy as np\n",
    "import matplotlib.pyplot as plt\n",
    "import time\n",
    "\n",
    "from qick import *\n",
    "from qick.averager_program import QickSweep\n",
    "from qick.pyro import make_proxy\n",
    "\n",
    "# Qick version : 0.2.357\n",
    "(soc, soccfg) = make_proxy(\"192.168.2.99\")\n",
    "\n",
    "# Set DAC Channel 0 attenuation 20 dB and 20 dB, and turn on DAC channel\n",
    "soc.rfb_set_gen_rf(0,31,31)\n",
    "# Set DAC Channel filter as bypass mode\n",
    "soc.rfb_set_gen_filter(0,fc = 2.5, ftype = \"lowpass\")\n",
    "\n",
    "# Set ADC Channel attenuation 20 dB, and turn on ADC channel\n",
    "soc.rfb_set_ro_rf(0,31)\n",
    "# Set ADC Channel filter as bypass mode\n",
    "soc.rfb_set_ro_filter(0, fc = 2.5, ftype = \"lowpass\")"
   ]
  },
  {
   "cell_type": "markdown",
   "metadata": {},
   "source": [
    "## Program"
   ]
  },
  {
   "cell_type": "code",
   "execution_count": 5,
   "metadata": {},
   "outputs": [],
   "source": [
    "class IQ_LoopBackTest(NDAveragerProgram):\n",
    "    def initialize(self):\n",
    "        freq_rf     = 540\n",
    "        # Declare RF generation channel\n",
    "        self.declare_gen(\n",
    "            ch      = 0,        # Channel\n",
    "            nqz     = 2         # Nyquist Zone\n",
    "        )\n",
    "        # Declare RF input channel\n",
    "        self.declare_readout(\n",
    "            ch      = 0,        # Channel\n",
    "            length  = self.cfg[\"pulse_length\"]  # Readout length\n",
    "        )\n",
    "\n",
    "        self.r_gain  = self.get_gen_reg(gen_ch = 0, name = \"gain\")\n",
    "        self.r_phase = self.get_gen_reg(gen_ch = 0, name = \"phase\")\n",
    "        self.add_sweep(\n",
    "            QickSweep(\n",
    "                prog    = self,\n",
    "                reg     = self.r_gain,\n",
    "                start   = 300,\n",
    "                stop    = 900,\n",
    "                expts   = 4,\n",
    "                label   = \"gain_sweep\"\n",
    "            )\n",
    "        )\n",
    "        self.add_sweep(\n",
    "            QickSweep(\n",
    "                prog    = self,\n",
    "                reg     = self.r_phase,\n",
    "                start   = 0,\n",
    "                stop    = 315,\n",
    "                expts   = 8,\n",
    "                label   = \"phase_sweep\"\n",
    "            )\n",
    "        )\n",
    "        # Convert RF frequency to DAC DDS register value\n",
    "        freq_dac    = self.freq2reg(\n",
    "            f       = freq_rf,  # Frequency\n",
    "            gen_ch  = 0,        # Generator channel\n",
    "            ro_ch   = 0         # Readout channel for round up\n",
    "        )\n",
    "        # Convert RF frequency to ADC DDS register value\n",
    "        freq_adc    = self.freq2reg_adc(\n",
    "            f       = freq_rf,  # Frequency\n",
    "            ro_ch   = 0,        # Readout channel\n",
    "            gen_ch  = 0         # Generator channel for round up\n",
    "        )\n",
    "\n",
    "        # Set DAC DDS\n",
    "        self.set_pulse_registers(\n",
    "            ch      = 0,        # Generator channel\n",
    "            style   = \"const\",  # Output is gain * DDS output\n",
    "            freq    = freq_dac, # Generator DDS frequency\n",
    "            phase   = 45,        # Generator DDS phase\n",
    "            gain    = 5000,     # Generator amplitude\n",
    "            length  = self.cfg[\"pulse_length\"],     # Pulse length\n",
    "            phrst   = 0         # Generator DDS phase reset\n",
    "        )\n",
    "        # Set ADC DDS\n",
    "        self.set_readout_registers(\n",
    "            ch      = 0,        # Readout channel\n",
    "            freq    = freq_adc, # Readout DDS frequency\n",
    "            length  = self.cfg[\"pulse_length\"],      # Readout DDS multiplication length\n",
    "            phrst   = 0         # Readout DDS phase reset\n",
    "        )\n",
    "        self.synci(500)\n",
    "\n",
    "    def body(self):\n",
    "        self.pulse(\n",
    "            ch      = 0,        # Generator channel\n",
    "            t       = 50        # Pulse will be output @ sync_t + 100\n",
    "        )\n",
    "        self.readout(\n",
    "            ch      = 0,        # Readout channel\n",
    "            t       = 50        # Readout DDS will start multiplication\n",
    "                                # @ sync_t + 100\n",
    "        )\n",
    "        self.trigger(\n",
    "            adcs    = [0],      # Readout channels\n",
    "            adc_trig_offset = 150 # Readout will capture the data @ sync_t + 50\n",
    "        )\n",
    "        self.sync_all(1000)"
   ]
  },
  {
   "cell_type": "markdown",
   "metadata": {},
   "source": [
    "## Execution"
   ]
  },
  {
   "cell_type": "code",
   "execution_count": 6,
   "metadata": {},
   "outputs": [
    {
     "data": {
      "application/vnd.jupyter.widget-view+json": {
       "model_id": "a89b7331765d4b008a1c3662c8eeaba5",
       "version_major": 2,
       "version_minor": 0
      },
      "text/plain": [
       "  0%|          | 0/320000 [00:00<?, ?it/s]"
      ]
     },
     "metadata": {},
     "output_type": "display_data"
    },
    {
     "name": "stdout",
     "output_type": "stream",
     "text": [
      "\n",
      "// Program\n",
      "\n",
      "                  regwi 0, $22, 362387865;      //freq = 362387865\n",
      "                  regwi 0, $23, 45;             //phase = 45\n",
      "                  regwi 0, $25, 5000;           //gain = 5000\n",
      "                  regwi 0, $26, 590824;         //phrst| stdysel | mode | | outsel = 0b01001 | length = 1000 \n",
      "                  regwi 4, $22, 966367640;      //freq = 966367640\n",
      "                  regwi 4, $26, 1000;           //mode | outsel = 0b00000 | length = 1000 \n",
      "                  synci 500;\n",
      "                  regwi 0, $13, 0;\n",
      "                  regwi 0, $14, 9999;\n",
      "LOOP_rep:         regwi 0, $23, 0;              //'gen0_phase' <= 0 (0 deg)\n",
      "                  regwi 0, $18, 7;\n",
      "LOOP_phase_sweep: regwi 0, $25, 300;            //'gen0_gain' <= 300 \n",
      "                  regwi 0, $17, 3;\n",
      "LOOP_gain_sweep:  regwi 0, $27, 50;             //t = 50\n",
      "                  set 0, 0, $22, $23, $0, $25, $26, $27;//ch = 0, pulse @t = $27\n",
      "                  regwi 4, $27, 50;             //t = 50\n",
      "                  set 4, 4, $22, $0, $26, $0, $26, $27;//ch = 0, pulse @t = $27\n",
      "                  regwi 0, $16, 1;              //out = 0b0000000000000001\n",
      "                  seti 7, 0, $16, 150;          //ch =0 out = $16 @t = 0\n",
      "                  seti 7, 0, $0, 160;           //ch =0 out = 0 @t = 0\n",
      "                  synci 2483;\n",
      "                  mathi 0, $13, $13 + 1;\n",
      "                  memwi 0, $13, 1;\n",
      "                  mathi 0, $25, $25 + 200;      // 'gen0_gain' <= 'gen0_gain' + 200 \n",
      "                  loopnz 0, $17, @LOOP_gain_sweep;\n",
      "                  mathi 0, $23, $23 + 536870912;// 'gen0_phase' <= 'gen0_phase' + 536870912 (45.0 deg)\n",
      "                  loopnz 0, $18, @LOOP_phase_sweep;\n",
      "                  loopnz 0, $14, @LOOP_rep;\n",
      "                  end ;\n",
      "total time : 3.732553005218506 s\n"
     ]
    },
    {
     "data": {
      "image/png": "[encoded data removed]",
      "text/plain": [
       "<Figure size 640x480 with 1 Axes>"
      ]
     },
     "metadata": {},
     "output_type": "display_data"
    }
   ],
   "source": [
    "prog = IQ_LoopBackTest(\n",
    "    soccfg,\n",
    "    {\n",
    "        \"reps\" : 10000,\n",
    "        \"expts\" : 1,\n",
    "        \"pulse_length\" : 1000,\n",
    "    }\n",
    ")\n",
    "start_time = time.time()\n",
    "expt_pts, avg_di, avg_dq = prog.acquire(soc, progress=True, start_src = \"internal\")\n",
    "end_time = time.time()\n",
    "\n",
    "total_time = end_time - start_time\n",
    "print(prog)\n",
    "print(f\"total time : {total_time} s\")\n",
    "\n",
    "c_x = 0\n",
    "c_y = 0\n",
    "\n",
    "plt.figure()\n",
    "for j, phase in enumerate(expt_pts[1]):\n",
    "    plt.scatter(avg_di[0][0][j], avg_dq[0][0][j], label=f\"{int(phase)}\")\n",
    "    c_x = c_x + np.sum(avg_di[0][0][j])\n",
    "    c_y = c_y + np.sum(avg_dq[0][0][j])\n",
    "plt.scatter(c_x,c_y, label=\"Center\", color='k', marker='+')\n",
    "plt.title(\"IQ Loopback\")\n",
    "plt.xlabel(\"I\")\n",
    "plt.ylabel(\"Q\")\n",
    "xmax = np.max(np.abs(avg_di[0][0]))\n",
    "ymax = np.max(np.abs(avg_dq[0][0]))\n",
    "\n",
    "plt.xlim([-xmax * 1.5, xmax * 1.5])\n",
    "plt.ylim([-ymax * 1.5, ymax * 1.5])\n",
    "plt.grid(True, alpha=0.3)\n",
    "plt.legend(title=\"Freq\", ncol=2, fontsize=8)\n",
    "plt.tight_layout()\n",
    "plt.show()"
   ]
  },
  {
   "cell_type": "code",
   "execution_count": null,
   "metadata": {},
   "outputs": [],
   "source": []
  }
 ],
 "metadata": {
  "kernelspec": {
   "display_name": "qcodes",
   "language": "python",
   "name": "python3"
  },
  "language_info": {
   "codemirror_mode": {
    "name": "ipython",
    "version": 3
   },
   "file_extension": ".py",
   "mimetype": "text/x-python",
   "name": "python",
   "nbconvert_exporter": "python",
   "pygments_lexer": "ipython3",
   "version": "3.12.9"
  }
 },
 "nbformat": 4,
 "nbformat_minor": 2
}
