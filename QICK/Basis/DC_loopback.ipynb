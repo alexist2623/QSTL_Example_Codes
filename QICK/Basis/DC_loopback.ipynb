{
 "cells": [
  {
   "cell_type": "markdown",
   "id": "7b90eb46",
   "metadata": {},
   "source": [
    "# DC Loopback Test"
   ]
  },
  {
   "cell_type": "markdown",
   "id": "00d1a046",
   "metadata": {},
   "source": [
    "## Get Pyro Instances"
   ]
  },
  {
   "cell_type": "code",
   "execution_count": 4,
   "id": "cfa12f00",
   "metadata": {},
   "outputs": [
    {
     "name": "stdout",
     "output_type": "stream",
     "text": [
      "Pyro.NameServer PYRO:Pyro.NameServer@0.0.0.0:8888\n",
      "myqick PYRO:obj_3cde8b18d45b4d708deec1c942f4b4c0@192.168.2.99:34289\n"
     ]
    }
   ],
   "source": [
    "import numpy as np\n",
    "import matplotlib.pyplot as plt\n",
    "import time\n",
    "\n",
    "from qick import *\n",
    "from qick.averager_program import QickSweep, merge_sweeps\n",
    "from qick.asm_v1 import QickRegister\n",
    "from qick.pyro import make_proxy\n",
    "\n",
    "# Qick version : 0.2.357\n",
    "(soc, soccfg) = make_proxy(\"192.168.2.99\")"
   ]
  },
  {
   "cell_type": "markdown",
   "id": "286f32dc",
   "metadata": {},
   "source": [
    "## Program"
   ]
  },
  {
   "cell_type": "code",
   "execution_count": 49,
   "id": "c493cf9d",
   "metadata": {},
   "outputs": [],
   "source": [
    "class DC_Loopback_Test(AveragerProgram):\n",
    "    def initialize(self):\n",
    "        # Declare DC generation channel\n",
    "        self.declare_gen(\n",
    "            ch      = 1,        # Channel\n",
    "            nqz     = 1         # Nyquist Zone\n",
    "        )\n",
    "        # Declare DC input channel\n",
    "        self.declare_readout(\n",
    "            ch      = 2,        # Channel\n",
    "            length  = self.cfg[\"pulse_time\"] + 100       # Readout length\n",
    "        )\n",
    "\n",
    "        self.add_pulse(\n",
    "            ch      = 1,\n",
    "            idata   = [2 ** 15 - 2 for i in range(4800)],\n",
    "            name    = \"DAC5_pulse\"\n",
    "        )\n",
    "        self.set_pulse_registers(\n",
    "            ch      = 1,        # Generator channel\n",
    "            style   = \"arb\",  # Output is gain * DDS output\n",
    "            waveform= \"DAC5_pulse\",\n",
    "            gain    = 10000,\n",
    "            freq    = 0,\n",
    "            phase   = 0\n",
    "        )\n",
    "\n",
    "        # Set ADC DDS\n",
    "        self.set_readout_registers(\n",
    "            ch      = 2,        # Readout channel\n",
    "            freq    = 0, # Readout DDS frequency\n",
    "            length  = self.cfg[\"pulse_time\"],       # Readout DDS multiplication length\n",
    "            phrst   = 0         # Readout DDS phase reset\n",
    "        )\n",
    "        self.synci(100)\n",
    "    def body(self):\n",
    "        self.pulse(\n",
    "            ch      = 1,        # Generator channel\n",
    "            t       = 100       # Pulse will be output @ sync_t + 100\n",
    "        )\n",
    "        self.readout(\n",
    "            ch      = 2,        # Readout channel\n",
    "            t       = 250       # Readout DDS will start multiplication\n",
    "                                # @ sync_t + 100\n",
    "        )\n",
    "        self.trigger(\n",
    "            adcs    = [2],      # Readout channels\n",
    "            adc_trig_offset = 250 # Readout will capture the data @ sync_t + 50\n",
    "        )\n",
    "        self.sync_all()"
   ]
  },
  {
   "cell_type": "markdown",
   "id": "0c6d9a75",
   "metadata": {},
   "source": [
    "## Execution"
   ]
  },
  {
   "cell_type": "code",
   "execution_count": 50,
   "id": "a8861431",
   "metadata": {},
   "outputs": [
    {
     "name": "stdout",
     "output_type": "stream",
     "text": [
      "\n",
      "// Program\n",
      "\n",
      "        regwi 1, $2, 0;                         //freq = 0\n",
      "        regwi 1, $3, 0;                         //phase = 0\n",
      "        regwi 1, $5, 10000;                     //gain = 10000\n",
      "        regwi 1, $4, 0;                         //addr = 0\n",
      "        regwi 1, $6, 17301804;                  //phrst| stdysel | mode | | outsel = 0b100001000 | length = 300 \n",
      "        regwi 5, $12, 0;                        //freq = 0\n",
      "        regwi 5, $16, 16777716;                 //mode | outsel = 0b100000000 | length = 500 \n",
      "        synci 100;\n",
      "        regwi 0, $15, 0;\n",
      "        regwi 0, $14, 0;\n",
      "LOOP_J: regwi 1, $7, 100;                       //t = 100\n",
      "        set 0, 1, $2, $3, $4, $5, $6, $7;       //ch = 1, pulse @t = $7\n",
      "        regwi 5, $17, 250;                      //t = 250\n",
      "        set 6, 5, $12, $0, $16, $0, $16, $17;   //ch = 2, pulse @t = $17\n",
      "        regwi 0, $16, 4;                        //out = 0b0000000000000100\n",
      "        seti 7, 0, $16, 250;                    //ch =0 out = $16 @t = 0\n",
      "        seti 7, 0, $0, 260;                     //ch =0 out = 0 @t = 0\n",
      "        synci 1050;\n",
      "        mathi 0, $15, $15 + 1;\n",
      "        memwi 0, $15, 1;\n",
      "        loopnz 0, $14, @LOOP_J;\n",
      "        end ;\n"
     ]
    },
    {
     "data": {
      "application/vnd.jupyter.widget-view+json": {
       "model_id": "78581509686a466b906283d65a241bbb",
       "version_major": 2,
       "version_minor": 0
      },
      "text/plain": [
       "  0%|          | 0/100 [00:00<?, ?it/s]"
      ]
     },
     "metadata": {},
     "output_type": "display_data"
    },
    {
     "name": "stdout",
     "output_type": "stream",
     "text": [
      "Acquisition time : %f 1.8366143703460693\n"
     ]
    },
    {
     "data": {
      "image/png": "[encoded data removed]",
      "text/plain": [
       "<Figure size 640x480 with 1 Axes>"
      ]
     },
     "metadata": {},
     "output_type": "display_data"
    }
   ],
   "source": [
    "start_time = time.time()\n",
    "\n",
    "cfg = {\n",
    "    # Experiment Setup\n",
    "    \"reps\"          : 1,\n",
    "    # Parameter Setup\n",
    "    \"pulse_time\"    : 500,\n",
    "    \"soft_avgs\"     : 100\n",
    "}\n",
    "prog = DC_Loopback_Test(\n",
    "    soccfg,\n",
    "    cfg\n",
    ")\n",
    "print(prog)\n",
    "data = prog.acquire_decimated(soc = soc, progress = True)\n",
    "end_time = time.time()\n",
    "print(f\"Acquisition time : %f\", end_time - start_time)\n",
    "plt.figure()\n",
    "plt.plot(data[0][0])\n",
    "plt.show()"
   ]
  },
  {
   "cell_type": "code",
   "execution_count": null,
   "id": "cacc5d35",
   "metadata": {},
   "outputs": [],
   "source": []
  }
 ],
 "metadata": {
  "kernelspec": {
   "display_name": "qcodes",
   "language": "python",
   "name": "python3"
  },
  "language_info": {
   "codemirror_mode": {
    "name": "ipython",
    "version": 3
   },
   "file_extension": ".py",
   "mimetype": "text/x-python",
   "name": "python",
   "nbconvert_exporter": "python",
   "pygments_lexer": "ipython3",
   "version": "3.12.9"
  }
 },
 "nbformat": 4,
 "nbformat_minor": 5
}
